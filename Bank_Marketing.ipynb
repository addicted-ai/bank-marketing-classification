{
  "nbformat": 4,
  "nbformat_minor": 0,
  "metadata": {
    "colab": {
      "name": "Bank Marketing.ipynb",
      "provenance": [],
      "include_colab_link": true
    },
    "kernelspec": {
      "name": "python3",
      "display_name": "Python 3"
    },
    "language_info": {
      "name": "python"
    }
  },
  "cells": [
    {
      "cell_type": "markdown",
      "metadata": {
        "id": "view-in-github",
        "colab_type": "text"
      },
      "source": [
        "<a href=\"https://colab.research.google.com/github/addicted-ai/bank-marketing-classification/blob/main/Bank_Marketing.ipynb\" target=\"_parent\"><img src=\"https://colab.research.google.com/assets/colab-badge.svg\" alt=\"Open In Colab\"/></a>"
      ]
    },
    {
      "cell_type": "code",
      "metadata": {
        "id": "bxRuaqn93FxH"
      },
      "source": [
        "import pandas as pd\n",
        "import numpy as np"
      ],
      "execution_count": 92,
      "outputs": []
    },
    {
      "cell_type": "code",
      "metadata": {
        "id": "w_zSp8xd6iSf"
      },
      "source": [
        "import matplotlib.pyplot as plt\n",
        "import seaborn as sns"
      ],
      "execution_count": 93,
      "outputs": []
    },
    {
      "cell_type": "code",
      "metadata": {
        "id": "ttrTYdut8eM-"
      },
      "source": [
        "url='https://raw.githubusercontent.com/addicted-ai/bank-marketing-classification/main/train.csv'\n",
        "df = pd.read_csv(url,delimiter=';')"
      ],
      "execution_count": 94,
      "outputs": []
    },
    {
      "cell_type": "code",
      "metadata": {
        "id": "xLDP_WNY8qkW",
        "colab": {
          "base_uri": "https://localhost:8080/",
          "height": 419
        },
        "outputId": "2d14b914-107d-4c9e-ac36-d6eeb4391516"
      },
      "source": [
        "df"
      ],
      "execution_count": 95,
      "outputs": [
        {
          "output_type": "execute_result",
          "data": {
            "text/html": [
              "<div>\n",
              "<style scoped>\n",
              "    .dataframe tbody tr th:only-of-type {\n",
              "        vertical-align: middle;\n",
              "    }\n",
              "\n",
              "    .dataframe tbody tr th {\n",
              "        vertical-align: top;\n",
              "    }\n",
              "\n",
              "    .dataframe thead th {\n",
              "        text-align: right;\n",
              "    }\n",
              "</style>\n",
              "<table border=\"1\" class=\"dataframe\">\n",
              "  <thead>\n",
              "    <tr style=\"text-align: right;\">\n",
              "      <th></th>\n",
              "      <th>age</th>\n",
              "      <th>job</th>\n",
              "      <th>marital</th>\n",
              "      <th>education</th>\n",
              "      <th>default</th>\n",
              "      <th>balance</th>\n",
              "      <th>housing</th>\n",
              "      <th>loan</th>\n",
              "      <th>contact</th>\n",
              "      <th>day</th>\n",
              "      <th>month</th>\n",
              "      <th>duration</th>\n",
              "      <th>campaign</th>\n",
              "      <th>pdays</th>\n",
              "      <th>previous</th>\n",
              "      <th>poutcome</th>\n",
              "      <th>y</th>\n",
              "    </tr>\n",
              "  </thead>\n",
              "  <tbody>\n",
              "    <tr>\n",
              "      <th>0</th>\n",
              "      <td>58</td>\n",
              "      <td>management</td>\n",
              "      <td>married</td>\n",
              "      <td>tertiary</td>\n",
              "      <td>no</td>\n",
              "      <td>2143</td>\n",
              "      <td>yes</td>\n",
              "      <td>no</td>\n",
              "      <td>unknown</td>\n",
              "      <td>5</td>\n",
              "      <td>may</td>\n",
              "      <td>261</td>\n",
              "      <td>1</td>\n",
              "      <td>-1</td>\n",
              "      <td>0</td>\n",
              "      <td>unknown</td>\n",
              "      <td>no</td>\n",
              "    </tr>\n",
              "    <tr>\n",
              "      <th>1</th>\n",
              "      <td>44</td>\n",
              "      <td>technician</td>\n",
              "      <td>single</td>\n",
              "      <td>secondary</td>\n",
              "      <td>no</td>\n",
              "      <td>29</td>\n",
              "      <td>yes</td>\n",
              "      <td>no</td>\n",
              "      <td>unknown</td>\n",
              "      <td>5</td>\n",
              "      <td>may</td>\n",
              "      <td>151</td>\n",
              "      <td>1</td>\n",
              "      <td>-1</td>\n",
              "      <td>0</td>\n",
              "      <td>unknown</td>\n",
              "      <td>no</td>\n",
              "    </tr>\n",
              "    <tr>\n",
              "      <th>2</th>\n",
              "      <td>33</td>\n",
              "      <td>entrepreneur</td>\n",
              "      <td>married</td>\n",
              "      <td>secondary</td>\n",
              "      <td>no</td>\n",
              "      <td>2</td>\n",
              "      <td>yes</td>\n",
              "      <td>yes</td>\n",
              "      <td>unknown</td>\n",
              "      <td>5</td>\n",
              "      <td>may</td>\n",
              "      <td>76</td>\n",
              "      <td>1</td>\n",
              "      <td>-1</td>\n",
              "      <td>0</td>\n",
              "      <td>unknown</td>\n",
              "      <td>no</td>\n",
              "    </tr>\n",
              "    <tr>\n",
              "      <th>3</th>\n",
              "      <td>47</td>\n",
              "      <td>blue-collar</td>\n",
              "      <td>married</td>\n",
              "      <td>unknown</td>\n",
              "      <td>no</td>\n",
              "      <td>1506</td>\n",
              "      <td>yes</td>\n",
              "      <td>no</td>\n",
              "      <td>unknown</td>\n",
              "      <td>5</td>\n",
              "      <td>may</td>\n",
              "      <td>92</td>\n",
              "      <td>1</td>\n",
              "      <td>-1</td>\n",
              "      <td>0</td>\n",
              "      <td>unknown</td>\n",
              "      <td>no</td>\n",
              "    </tr>\n",
              "    <tr>\n",
              "      <th>4</th>\n",
              "      <td>33</td>\n",
              "      <td>unknown</td>\n",
              "      <td>single</td>\n",
              "      <td>unknown</td>\n",
              "      <td>no</td>\n",
              "      <td>1</td>\n",
              "      <td>no</td>\n",
              "      <td>no</td>\n",
              "      <td>unknown</td>\n",
              "      <td>5</td>\n",
              "      <td>may</td>\n",
              "      <td>198</td>\n",
              "      <td>1</td>\n",
              "      <td>-1</td>\n",
              "      <td>0</td>\n",
              "      <td>unknown</td>\n",
              "      <td>no</td>\n",
              "    </tr>\n",
              "    <tr>\n",
              "      <th>...</th>\n",
              "      <td>...</td>\n",
              "      <td>...</td>\n",
              "      <td>...</td>\n",
              "      <td>...</td>\n",
              "      <td>...</td>\n",
              "      <td>...</td>\n",
              "      <td>...</td>\n",
              "      <td>...</td>\n",
              "      <td>...</td>\n",
              "      <td>...</td>\n",
              "      <td>...</td>\n",
              "      <td>...</td>\n",
              "      <td>...</td>\n",
              "      <td>...</td>\n",
              "      <td>...</td>\n",
              "      <td>...</td>\n",
              "      <td>...</td>\n",
              "    </tr>\n",
              "    <tr>\n",
              "      <th>45206</th>\n",
              "      <td>51</td>\n",
              "      <td>technician</td>\n",
              "      <td>married</td>\n",
              "      <td>tertiary</td>\n",
              "      <td>no</td>\n",
              "      <td>825</td>\n",
              "      <td>no</td>\n",
              "      <td>no</td>\n",
              "      <td>cellular</td>\n",
              "      <td>17</td>\n",
              "      <td>nov</td>\n",
              "      <td>977</td>\n",
              "      <td>3</td>\n",
              "      <td>-1</td>\n",
              "      <td>0</td>\n",
              "      <td>unknown</td>\n",
              "      <td>yes</td>\n",
              "    </tr>\n",
              "    <tr>\n",
              "      <th>45207</th>\n",
              "      <td>71</td>\n",
              "      <td>retired</td>\n",
              "      <td>divorced</td>\n",
              "      <td>primary</td>\n",
              "      <td>no</td>\n",
              "      <td>1729</td>\n",
              "      <td>no</td>\n",
              "      <td>no</td>\n",
              "      <td>cellular</td>\n",
              "      <td>17</td>\n",
              "      <td>nov</td>\n",
              "      <td>456</td>\n",
              "      <td>2</td>\n",
              "      <td>-1</td>\n",
              "      <td>0</td>\n",
              "      <td>unknown</td>\n",
              "      <td>yes</td>\n",
              "    </tr>\n",
              "    <tr>\n",
              "      <th>45208</th>\n",
              "      <td>72</td>\n",
              "      <td>retired</td>\n",
              "      <td>married</td>\n",
              "      <td>secondary</td>\n",
              "      <td>no</td>\n",
              "      <td>5715</td>\n",
              "      <td>no</td>\n",
              "      <td>no</td>\n",
              "      <td>cellular</td>\n",
              "      <td>17</td>\n",
              "      <td>nov</td>\n",
              "      <td>1127</td>\n",
              "      <td>5</td>\n",
              "      <td>184</td>\n",
              "      <td>3</td>\n",
              "      <td>success</td>\n",
              "      <td>yes</td>\n",
              "    </tr>\n",
              "    <tr>\n",
              "      <th>45209</th>\n",
              "      <td>57</td>\n",
              "      <td>blue-collar</td>\n",
              "      <td>married</td>\n",
              "      <td>secondary</td>\n",
              "      <td>no</td>\n",
              "      <td>668</td>\n",
              "      <td>no</td>\n",
              "      <td>no</td>\n",
              "      <td>telephone</td>\n",
              "      <td>17</td>\n",
              "      <td>nov</td>\n",
              "      <td>508</td>\n",
              "      <td>4</td>\n",
              "      <td>-1</td>\n",
              "      <td>0</td>\n",
              "      <td>unknown</td>\n",
              "      <td>no</td>\n",
              "    </tr>\n",
              "    <tr>\n",
              "      <th>45210</th>\n",
              "      <td>37</td>\n",
              "      <td>entrepreneur</td>\n",
              "      <td>married</td>\n",
              "      <td>secondary</td>\n",
              "      <td>no</td>\n",
              "      <td>2971</td>\n",
              "      <td>no</td>\n",
              "      <td>no</td>\n",
              "      <td>cellular</td>\n",
              "      <td>17</td>\n",
              "      <td>nov</td>\n",
              "      <td>361</td>\n",
              "      <td>2</td>\n",
              "      <td>188</td>\n",
              "      <td>11</td>\n",
              "      <td>other</td>\n",
              "      <td>no</td>\n",
              "    </tr>\n",
              "  </tbody>\n",
              "</table>\n",
              "<p>45211 rows × 17 columns</p>\n",
              "</div>"
            ],
            "text/plain": [
              "       age           job   marital  education  ... pdays  previous poutcome    y\n",
              "0       58    management   married   tertiary  ...    -1         0  unknown   no\n",
              "1       44    technician    single  secondary  ...    -1         0  unknown   no\n",
              "2       33  entrepreneur   married  secondary  ...    -1         0  unknown   no\n",
              "3       47   blue-collar   married    unknown  ...    -1         0  unknown   no\n",
              "4       33       unknown    single    unknown  ...    -1         0  unknown   no\n",
              "...    ...           ...       ...        ...  ...   ...       ...      ...  ...\n",
              "45206   51    technician   married   tertiary  ...    -1         0  unknown  yes\n",
              "45207   71       retired  divorced    primary  ...    -1         0  unknown  yes\n",
              "45208   72       retired   married  secondary  ...   184         3  success  yes\n",
              "45209   57   blue-collar   married  secondary  ...    -1         0  unknown   no\n",
              "45210   37  entrepreneur   married  secondary  ...   188        11    other   no\n",
              "\n",
              "[45211 rows x 17 columns]"
            ]
          },
          "metadata": {
            "tags": []
          },
          "execution_count": 95
        }
      ]
    },
    {
      "cell_type": "code",
      "metadata": {
        "id": "TF6f9PzS9ar-",
        "colab": {
          "base_uri": "https://localhost:8080/"
        },
        "outputId": "257b36cc-94d7-43fb-9c6d-ccd8e65fbafc"
      },
      "source": [
        "df.shape"
      ],
      "execution_count": 96,
      "outputs": [
        {
          "output_type": "execute_result",
          "data": {
            "text/plain": [
              "(45211, 17)"
            ]
          },
          "metadata": {
            "tags": []
          },
          "execution_count": 96
        }
      ]
    },
    {
      "cell_type": "code",
      "metadata": {
        "colab": {
          "base_uri": "https://localhost:8080/",
          "height": 297
        },
        "id": "rr9w1I78JHG5",
        "outputId": "ca302749-57a8-49f8-c294-9f0edff48eb1"
      },
      "source": [
        "df.describe()"
      ],
      "execution_count": 97,
      "outputs": [
        {
          "output_type": "execute_result",
          "data": {
            "text/html": [
              "<div>\n",
              "<style scoped>\n",
              "    .dataframe tbody tr th:only-of-type {\n",
              "        vertical-align: middle;\n",
              "    }\n",
              "\n",
              "    .dataframe tbody tr th {\n",
              "        vertical-align: top;\n",
              "    }\n",
              "\n",
              "    .dataframe thead th {\n",
              "        text-align: right;\n",
              "    }\n",
              "</style>\n",
              "<table border=\"1\" class=\"dataframe\">\n",
              "  <thead>\n",
              "    <tr style=\"text-align: right;\">\n",
              "      <th></th>\n",
              "      <th>age</th>\n",
              "      <th>balance</th>\n",
              "      <th>day</th>\n",
              "      <th>duration</th>\n",
              "      <th>campaign</th>\n",
              "      <th>pdays</th>\n",
              "      <th>previous</th>\n",
              "    </tr>\n",
              "  </thead>\n",
              "  <tbody>\n",
              "    <tr>\n",
              "      <th>count</th>\n",
              "      <td>45211.000000</td>\n",
              "      <td>45211.000000</td>\n",
              "      <td>45211.000000</td>\n",
              "      <td>45211.000000</td>\n",
              "      <td>45211.000000</td>\n",
              "      <td>45211.000000</td>\n",
              "      <td>45211.000000</td>\n",
              "    </tr>\n",
              "    <tr>\n",
              "      <th>mean</th>\n",
              "      <td>40.936210</td>\n",
              "      <td>1362.272058</td>\n",
              "      <td>15.806419</td>\n",
              "      <td>258.163080</td>\n",
              "      <td>2.763841</td>\n",
              "      <td>40.197828</td>\n",
              "      <td>0.580323</td>\n",
              "    </tr>\n",
              "    <tr>\n",
              "      <th>std</th>\n",
              "      <td>10.618762</td>\n",
              "      <td>3044.765829</td>\n",
              "      <td>8.322476</td>\n",
              "      <td>257.527812</td>\n",
              "      <td>3.098021</td>\n",
              "      <td>100.128746</td>\n",
              "      <td>2.303441</td>\n",
              "    </tr>\n",
              "    <tr>\n",
              "      <th>min</th>\n",
              "      <td>18.000000</td>\n",
              "      <td>-8019.000000</td>\n",
              "      <td>1.000000</td>\n",
              "      <td>0.000000</td>\n",
              "      <td>1.000000</td>\n",
              "      <td>-1.000000</td>\n",
              "      <td>0.000000</td>\n",
              "    </tr>\n",
              "    <tr>\n",
              "      <th>25%</th>\n",
              "      <td>33.000000</td>\n",
              "      <td>72.000000</td>\n",
              "      <td>8.000000</td>\n",
              "      <td>103.000000</td>\n",
              "      <td>1.000000</td>\n",
              "      <td>-1.000000</td>\n",
              "      <td>0.000000</td>\n",
              "    </tr>\n",
              "    <tr>\n",
              "      <th>50%</th>\n",
              "      <td>39.000000</td>\n",
              "      <td>448.000000</td>\n",
              "      <td>16.000000</td>\n",
              "      <td>180.000000</td>\n",
              "      <td>2.000000</td>\n",
              "      <td>-1.000000</td>\n",
              "      <td>0.000000</td>\n",
              "    </tr>\n",
              "    <tr>\n",
              "      <th>75%</th>\n",
              "      <td>48.000000</td>\n",
              "      <td>1428.000000</td>\n",
              "      <td>21.000000</td>\n",
              "      <td>319.000000</td>\n",
              "      <td>3.000000</td>\n",
              "      <td>-1.000000</td>\n",
              "      <td>0.000000</td>\n",
              "    </tr>\n",
              "    <tr>\n",
              "      <th>max</th>\n",
              "      <td>95.000000</td>\n",
              "      <td>102127.000000</td>\n",
              "      <td>31.000000</td>\n",
              "      <td>4918.000000</td>\n",
              "      <td>63.000000</td>\n",
              "      <td>871.000000</td>\n",
              "      <td>275.000000</td>\n",
              "    </tr>\n",
              "  </tbody>\n",
              "</table>\n",
              "</div>"
            ],
            "text/plain": [
              "                age        balance  ...         pdays      previous\n",
              "count  45211.000000   45211.000000  ...  45211.000000  45211.000000\n",
              "mean      40.936210    1362.272058  ...     40.197828      0.580323\n",
              "std       10.618762    3044.765829  ...    100.128746      2.303441\n",
              "min       18.000000   -8019.000000  ...     -1.000000      0.000000\n",
              "25%       33.000000      72.000000  ...     -1.000000      0.000000\n",
              "50%       39.000000     448.000000  ...     -1.000000      0.000000\n",
              "75%       48.000000    1428.000000  ...     -1.000000      0.000000\n",
              "max       95.000000  102127.000000  ...    871.000000    275.000000\n",
              "\n",
              "[8 rows x 7 columns]"
            ]
          },
          "metadata": {
            "tags": []
          },
          "execution_count": 97
        }
      ]
    },
    {
      "cell_type": "code",
      "metadata": {
        "colab": {
          "base_uri": "https://localhost:8080/"
        },
        "id": "1yBo1MlNJHik",
        "outputId": "9f705082-e581-404d-bb2a-98cd86458aee"
      },
      "source": [
        "df.info()"
      ],
      "execution_count": 98,
      "outputs": [
        {
          "output_type": "stream",
          "text": [
            "<class 'pandas.core.frame.DataFrame'>\n",
            "RangeIndex: 45211 entries, 0 to 45210\n",
            "Data columns (total 17 columns):\n",
            " #   Column     Non-Null Count  Dtype \n",
            "---  ------     --------------  ----- \n",
            " 0   age        45211 non-null  int64 \n",
            " 1   job        45211 non-null  object\n",
            " 2   marital    45211 non-null  object\n",
            " 3   education  45211 non-null  object\n",
            " 4   default    45211 non-null  object\n",
            " 5   balance    45211 non-null  int64 \n",
            " 6   housing    45211 non-null  object\n",
            " 7   loan       45211 non-null  object\n",
            " 8   contact    45211 non-null  object\n",
            " 9   day        45211 non-null  int64 \n",
            " 10  month      45211 non-null  object\n",
            " 11  duration   45211 non-null  int64 \n",
            " 12  campaign   45211 non-null  int64 \n",
            " 13  pdays      45211 non-null  int64 \n",
            " 14  previous   45211 non-null  int64 \n",
            " 15  poutcome   45211 non-null  object\n",
            " 16  y          45211 non-null  object\n",
            "dtypes: int64(7), object(10)\n",
            "memory usage: 5.9+ MB\n"
          ],
          "name": "stdout"
        }
      ]
    },
    {
      "cell_type": "code",
      "metadata": {
        "id": "BnLOnndgDSij"
      },
      "source": [
        "df.rename(columns={'y':'output'}, inplace=True)"
      ],
      "execution_count": 99,
      "outputs": []
    },
    {
      "cell_type": "markdown",
      "metadata": {
        "id": "TyzymqmtJUxo"
      },
      "source": [
        "We can see that all 16 columns have `45211` non-null values that's also total row no. So there is no need to check null values or imputation.\n",
        "\n",
        "## Data Analysis\n",
        "\n",
        "### Checking Object Columns"
      ]
    },
    {
      "cell_type": "code",
      "metadata": {
        "id": "eTSNKZ2iJQMj"
      },
      "source": [
        "obj_cols = list(df.dtypes[df.dtypes==np.object].keys())"
      ],
      "execution_count": 100,
      "outputs": []
    },
    {
      "cell_type": "code",
      "metadata": {
        "colab": {
          "base_uri": "https://localhost:8080/"
        },
        "id": "4U5DKrLkJZKc",
        "outputId": "46c5d5f0-8777-496a-caca-f841cd4cadf9"
      },
      "source": [
        "for i in obj_cols:\n",
        "    print('----------', i, '----------\\n', df[i].value_counts(),'\\n-----------------------------', sep='')"
      ],
      "execution_count": 101,
      "outputs": [
        {
          "output_type": "stream",
          "text": [
            "----------job----------\n",
            "blue-collar      9732\n",
            "management       9458\n",
            "technician       7597\n",
            "admin.           5171\n",
            "services         4154\n",
            "retired          2264\n",
            "self-employed    1579\n",
            "entrepreneur     1487\n",
            "unemployed       1303\n",
            "housemaid        1240\n",
            "student           938\n",
            "unknown           288\n",
            "Name: job, dtype: int64\n",
            "-----------------------------\n",
            "----------marital----------\n",
            "married     27214\n",
            "single      12790\n",
            "divorced     5207\n",
            "Name: marital, dtype: int64\n",
            "-----------------------------\n",
            "----------education----------\n",
            "secondary    23202\n",
            "tertiary     13301\n",
            "primary       6851\n",
            "unknown       1857\n",
            "Name: education, dtype: int64\n",
            "-----------------------------\n",
            "----------default----------\n",
            "no     44396\n",
            "yes      815\n",
            "Name: default, dtype: int64\n",
            "-----------------------------\n",
            "----------housing----------\n",
            "yes    25130\n",
            "no     20081\n",
            "Name: housing, dtype: int64\n",
            "-----------------------------\n",
            "----------loan----------\n",
            "no     37967\n",
            "yes     7244\n",
            "Name: loan, dtype: int64\n",
            "-----------------------------\n",
            "----------contact----------\n",
            "cellular     29285\n",
            "unknown      13020\n",
            "telephone     2906\n",
            "Name: contact, dtype: int64\n",
            "-----------------------------\n",
            "----------month----------\n",
            "may    13766\n",
            "jul     6895\n",
            "aug     6247\n",
            "jun     5341\n",
            "nov     3970\n",
            "apr     2932\n",
            "feb     2649\n",
            "jan     1403\n",
            "oct      738\n",
            "sep      579\n",
            "mar      477\n",
            "dec      214\n",
            "Name: month, dtype: int64\n",
            "-----------------------------\n",
            "----------poutcome----------\n",
            "unknown    36959\n",
            "failure     4901\n",
            "other       1840\n",
            "success     1511\n",
            "Name: poutcome, dtype: int64\n",
            "-----------------------------\n",
            "----------output----------\n",
            "no     39922\n",
            "yes     5289\n",
            "Name: output, dtype: int64\n",
            "-----------------------------\n"
          ],
          "name": "stdout"
        }
      ]
    },
    {
      "cell_type": "markdown",
      "metadata": {
        "id": "q9BCckSEJdMY"
      },
      "source": [
        "- We can see the column `output` i.e our output column as 2 levels yes & no.\n",
        "- `loan`, `housing` & `default` column has also 2 values yes & no.\n",
        "- `job` column has `288` unknown value. `education` column has `1857` unknow value. These can be imputed.\n",
        "- `poutcome` has `36959` unknown value, that's fairly large no. "
      ]
    },
    {
      "cell_type": "code",
      "metadata": {
        "id": "tRkYWYrzM0Gz"
      },
      "source": [
        "df=df.drop(['contact','day','month','poutcome'],axis=1)"
      ],
      "execution_count": 102,
      "outputs": []
    },
    {
      "cell_type": "markdown",
      "metadata": {
        "id": "0KOjYrQWCPdr"
      },
      "source": [
        "## Creating Dummy Variables:"
      ]
    },
    {
      "cell_type": "code",
      "metadata": {
        "id": "on2bUTfbCExz",
        "colab": {
          "base_uri": "https://localhost:8080/"
        },
        "outputId": "d2e03f33-e1f5-4460-b52e-263c5668860b"
      },
      "source": [
        "obj_cols"
      ],
      "execution_count": 103,
      "outputs": [
        {
          "output_type": "execute_result",
          "data": {
            "text/plain": [
              "['job',\n",
              " 'marital',\n",
              " 'education',\n",
              " 'default',\n",
              " 'housing',\n",
              " 'loan',\n",
              " 'contact',\n",
              " 'month',\n",
              " 'poutcome',\n",
              " 'output']"
            ]
          },
          "metadata": {
            "tags": []
          },
          "execution_count": 103
        }
      ]
    },
    {
      "cell_type": "code",
      "metadata": {
        "id": "-deYGnWuCEvt"
      },
      "source": [
        "#variable to map\n",
        "\n",
        "var =  ['default','housing','loan','output']\n",
        "\n",
        "# Defining the map function\n",
        "def binary_map(x):\n",
        "    return x.map({'yes': 1, \"no\": 0})\n",
        "\n",
        "# Applying the function \n",
        "df[var] = df[var].apply(binary_map)\n"
      ],
      "execution_count": 104,
      "outputs": []
    },
    {
      "cell_type": "code",
      "metadata": {
        "id": "cUBXnQc9HxKO",
        "colab": {
          "base_uri": "https://localhost:8080/",
          "height": 419
        },
        "outputId": "6c15afb7-5d2e-47b4-efe7-faad4253b5c4"
      },
      "source": [
        "df[var]"
      ],
      "execution_count": 105,
      "outputs": [
        {
          "output_type": "execute_result",
          "data": {
            "text/html": [
              "<div>\n",
              "<style scoped>\n",
              "    .dataframe tbody tr th:only-of-type {\n",
              "        vertical-align: middle;\n",
              "    }\n",
              "\n",
              "    .dataframe tbody tr th {\n",
              "        vertical-align: top;\n",
              "    }\n",
              "\n",
              "    .dataframe thead th {\n",
              "        text-align: right;\n",
              "    }\n",
              "</style>\n",
              "<table border=\"1\" class=\"dataframe\">\n",
              "  <thead>\n",
              "    <tr style=\"text-align: right;\">\n",
              "      <th></th>\n",
              "      <th>default</th>\n",
              "      <th>housing</th>\n",
              "      <th>loan</th>\n",
              "      <th>output</th>\n",
              "    </tr>\n",
              "  </thead>\n",
              "  <tbody>\n",
              "    <tr>\n",
              "      <th>0</th>\n",
              "      <td>0</td>\n",
              "      <td>1</td>\n",
              "      <td>0</td>\n",
              "      <td>0</td>\n",
              "    </tr>\n",
              "    <tr>\n",
              "      <th>1</th>\n",
              "      <td>0</td>\n",
              "      <td>1</td>\n",
              "      <td>0</td>\n",
              "      <td>0</td>\n",
              "    </tr>\n",
              "    <tr>\n",
              "      <th>2</th>\n",
              "      <td>0</td>\n",
              "      <td>1</td>\n",
              "      <td>1</td>\n",
              "      <td>0</td>\n",
              "    </tr>\n",
              "    <tr>\n",
              "      <th>3</th>\n",
              "      <td>0</td>\n",
              "      <td>1</td>\n",
              "      <td>0</td>\n",
              "      <td>0</td>\n",
              "    </tr>\n",
              "    <tr>\n",
              "      <th>4</th>\n",
              "      <td>0</td>\n",
              "      <td>0</td>\n",
              "      <td>0</td>\n",
              "      <td>0</td>\n",
              "    </tr>\n",
              "    <tr>\n",
              "      <th>...</th>\n",
              "      <td>...</td>\n",
              "      <td>...</td>\n",
              "      <td>...</td>\n",
              "      <td>...</td>\n",
              "    </tr>\n",
              "    <tr>\n",
              "      <th>45206</th>\n",
              "      <td>0</td>\n",
              "      <td>0</td>\n",
              "      <td>0</td>\n",
              "      <td>1</td>\n",
              "    </tr>\n",
              "    <tr>\n",
              "      <th>45207</th>\n",
              "      <td>0</td>\n",
              "      <td>0</td>\n",
              "      <td>0</td>\n",
              "      <td>1</td>\n",
              "    </tr>\n",
              "    <tr>\n",
              "      <th>45208</th>\n",
              "      <td>0</td>\n",
              "      <td>0</td>\n",
              "      <td>0</td>\n",
              "      <td>1</td>\n",
              "    </tr>\n",
              "    <tr>\n",
              "      <th>45209</th>\n",
              "      <td>0</td>\n",
              "      <td>0</td>\n",
              "      <td>0</td>\n",
              "      <td>0</td>\n",
              "    </tr>\n",
              "    <tr>\n",
              "      <th>45210</th>\n",
              "      <td>0</td>\n",
              "      <td>0</td>\n",
              "      <td>0</td>\n",
              "      <td>0</td>\n",
              "    </tr>\n",
              "  </tbody>\n",
              "</table>\n",
              "<p>45211 rows × 4 columns</p>\n",
              "</div>"
            ],
            "text/plain": [
              "       default  housing  loan  output\n",
              "0            0        1     0       0\n",
              "1            0        1     0       0\n",
              "2            0        1     1       0\n",
              "3            0        1     0       0\n",
              "4            0        0     0       0\n",
              "...        ...      ...   ...     ...\n",
              "45206        0        0     0       1\n",
              "45207        0        0     0       1\n",
              "45208        0        0     0       1\n",
              "45209        0        0     0       0\n",
              "45210        0        0     0       0\n",
              "\n",
              "[45211 rows x 4 columns]"
            ]
          },
          "metadata": {
            "tags": []
          },
          "execution_count": 105
        }
      ]
    },
    {
      "cell_type": "code",
      "metadata": {
        "id": "xSQ1EATHCEtH"
      },
      "source": [
        "# Creating a dummy variable for some of the categorical variables and dropping the first one.\n",
        "dummy = pd.get_dummies(df[['job', 'marital', 'education']], drop_first=True)\n",
        "\n",
        "# Adding the results to the master dataframe\n",
        "df = pd.concat([df, dummy], axis=1)"
      ],
      "execution_count": 106,
      "outputs": []
    },
    {
      "cell_type": "code",
      "metadata": {
        "id": "PgMEd0xTCEqe",
        "colab": {
          "base_uri": "https://localhost:8080/",
          "height": 241
        },
        "outputId": "9f322157-63fe-4e0c-8000-3d69d1e899f3"
      },
      "source": [
        "df.head()"
      ],
      "execution_count": 107,
      "outputs": [
        {
          "output_type": "execute_result",
          "data": {
            "text/html": [
              "<div>\n",
              "<style scoped>\n",
              "    .dataframe tbody tr th:only-of-type {\n",
              "        vertical-align: middle;\n",
              "    }\n",
              "\n",
              "    .dataframe tbody tr th {\n",
              "        vertical-align: top;\n",
              "    }\n",
              "\n",
              "    .dataframe thead th {\n",
              "        text-align: right;\n",
              "    }\n",
              "</style>\n",
              "<table border=\"1\" class=\"dataframe\">\n",
              "  <thead>\n",
              "    <tr style=\"text-align: right;\">\n",
              "      <th></th>\n",
              "      <th>age</th>\n",
              "      <th>job</th>\n",
              "      <th>marital</th>\n",
              "      <th>education</th>\n",
              "      <th>default</th>\n",
              "      <th>balance</th>\n",
              "      <th>housing</th>\n",
              "      <th>loan</th>\n",
              "      <th>duration</th>\n",
              "      <th>campaign</th>\n",
              "      <th>pdays</th>\n",
              "      <th>previous</th>\n",
              "      <th>output</th>\n",
              "      <th>job_blue-collar</th>\n",
              "      <th>job_entrepreneur</th>\n",
              "      <th>job_housemaid</th>\n",
              "      <th>job_management</th>\n",
              "      <th>job_retired</th>\n",
              "      <th>job_self-employed</th>\n",
              "      <th>job_services</th>\n",
              "      <th>job_student</th>\n",
              "      <th>job_technician</th>\n",
              "      <th>job_unemployed</th>\n",
              "      <th>job_unknown</th>\n",
              "      <th>marital_married</th>\n",
              "      <th>marital_single</th>\n",
              "      <th>education_secondary</th>\n",
              "      <th>education_tertiary</th>\n",
              "      <th>education_unknown</th>\n",
              "    </tr>\n",
              "  </thead>\n",
              "  <tbody>\n",
              "    <tr>\n",
              "      <th>0</th>\n",
              "      <td>58</td>\n",
              "      <td>management</td>\n",
              "      <td>married</td>\n",
              "      <td>tertiary</td>\n",
              "      <td>0</td>\n",
              "      <td>2143</td>\n",
              "      <td>1</td>\n",
              "      <td>0</td>\n",
              "      <td>261</td>\n",
              "      <td>1</td>\n",
              "      <td>-1</td>\n",
              "      <td>0</td>\n",
              "      <td>0</td>\n",
              "      <td>0</td>\n",
              "      <td>0</td>\n",
              "      <td>0</td>\n",
              "      <td>1</td>\n",
              "      <td>0</td>\n",
              "      <td>0</td>\n",
              "      <td>0</td>\n",
              "      <td>0</td>\n",
              "      <td>0</td>\n",
              "      <td>0</td>\n",
              "      <td>0</td>\n",
              "      <td>1</td>\n",
              "      <td>0</td>\n",
              "      <td>0</td>\n",
              "      <td>1</td>\n",
              "      <td>0</td>\n",
              "    </tr>\n",
              "    <tr>\n",
              "      <th>1</th>\n",
              "      <td>44</td>\n",
              "      <td>technician</td>\n",
              "      <td>single</td>\n",
              "      <td>secondary</td>\n",
              "      <td>0</td>\n",
              "      <td>29</td>\n",
              "      <td>1</td>\n",
              "      <td>0</td>\n",
              "      <td>151</td>\n",
              "      <td>1</td>\n",
              "      <td>-1</td>\n",
              "      <td>0</td>\n",
              "      <td>0</td>\n",
              "      <td>0</td>\n",
              "      <td>0</td>\n",
              "      <td>0</td>\n",
              "      <td>0</td>\n",
              "      <td>0</td>\n",
              "      <td>0</td>\n",
              "      <td>0</td>\n",
              "      <td>0</td>\n",
              "      <td>1</td>\n",
              "      <td>0</td>\n",
              "      <td>0</td>\n",
              "      <td>0</td>\n",
              "      <td>1</td>\n",
              "      <td>1</td>\n",
              "      <td>0</td>\n",
              "      <td>0</td>\n",
              "    </tr>\n",
              "    <tr>\n",
              "      <th>2</th>\n",
              "      <td>33</td>\n",
              "      <td>entrepreneur</td>\n",
              "      <td>married</td>\n",
              "      <td>secondary</td>\n",
              "      <td>0</td>\n",
              "      <td>2</td>\n",
              "      <td>1</td>\n",
              "      <td>1</td>\n",
              "      <td>76</td>\n",
              "      <td>1</td>\n",
              "      <td>-1</td>\n",
              "      <td>0</td>\n",
              "      <td>0</td>\n",
              "      <td>0</td>\n",
              "      <td>1</td>\n",
              "      <td>0</td>\n",
              "      <td>0</td>\n",
              "      <td>0</td>\n",
              "      <td>0</td>\n",
              "      <td>0</td>\n",
              "      <td>0</td>\n",
              "      <td>0</td>\n",
              "      <td>0</td>\n",
              "      <td>0</td>\n",
              "      <td>1</td>\n",
              "      <td>0</td>\n",
              "      <td>1</td>\n",
              "      <td>0</td>\n",
              "      <td>0</td>\n",
              "    </tr>\n",
              "    <tr>\n",
              "      <th>3</th>\n",
              "      <td>47</td>\n",
              "      <td>blue-collar</td>\n",
              "      <td>married</td>\n",
              "      <td>unknown</td>\n",
              "      <td>0</td>\n",
              "      <td>1506</td>\n",
              "      <td>1</td>\n",
              "      <td>0</td>\n",
              "      <td>92</td>\n",
              "      <td>1</td>\n",
              "      <td>-1</td>\n",
              "      <td>0</td>\n",
              "      <td>0</td>\n",
              "      <td>1</td>\n",
              "      <td>0</td>\n",
              "      <td>0</td>\n",
              "      <td>0</td>\n",
              "      <td>0</td>\n",
              "      <td>0</td>\n",
              "      <td>0</td>\n",
              "      <td>0</td>\n",
              "      <td>0</td>\n",
              "      <td>0</td>\n",
              "      <td>0</td>\n",
              "      <td>1</td>\n",
              "      <td>0</td>\n",
              "      <td>0</td>\n",
              "      <td>0</td>\n",
              "      <td>1</td>\n",
              "    </tr>\n",
              "    <tr>\n",
              "      <th>4</th>\n",
              "      <td>33</td>\n",
              "      <td>unknown</td>\n",
              "      <td>single</td>\n",
              "      <td>unknown</td>\n",
              "      <td>0</td>\n",
              "      <td>1</td>\n",
              "      <td>0</td>\n",
              "      <td>0</td>\n",
              "      <td>198</td>\n",
              "      <td>1</td>\n",
              "      <td>-1</td>\n",
              "      <td>0</td>\n",
              "      <td>0</td>\n",
              "      <td>0</td>\n",
              "      <td>0</td>\n",
              "      <td>0</td>\n",
              "      <td>0</td>\n",
              "      <td>0</td>\n",
              "      <td>0</td>\n",
              "      <td>0</td>\n",
              "      <td>0</td>\n",
              "      <td>0</td>\n",
              "      <td>0</td>\n",
              "      <td>1</td>\n",
              "      <td>0</td>\n",
              "      <td>1</td>\n",
              "      <td>0</td>\n",
              "      <td>0</td>\n",
              "      <td>1</td>\n",
              "    </tr>\n",
              "  </tbody>\n",
              "</table>\n",
              "</div>"
            ],
            "text/plain": [
              "   age           job  ... education_tertiary education_unknown\n",
              "0   58    management  ...                  1                 0\n",
              "1   44    technician  ...                  0                 0\n",
              "2   33  entrepreneur  ...                  0                 0\n",
              "3   47   blue-collar  ...                  0                 1\n",
              "4   33       unknown  ...                  0                 1\n",
              "\n",
              "[5 rows x 29 columns]"
            ]
          },
          "metadata": {
            "tags": []
          },
          "execution_count": 107
        }
      ]
    },
    {
      "cell_type": "markdown",
      "metadata": {
        "id": "rhe4UXL2GaGK"
      },
      "source": [
        "- We can no drop those categorical columns since we already have created dummy variables for them."
      ]
    },
    {
      "cell_type": "code",
      "metadata": {
        "id": "v7L3WWRKCEmT",
        "colab": {
          "base_uri": "https://localhost:8080/",
          "height": 241
        },
        "outputId": "9ab63b06-cf89-4b90-fb0d-c7ada2e47526"
      },
      "source": [
        "df.drop(['job', 'marital', 'education'], axis=1, inplace=True)\n",
        "df.head()"
      ],
      "execution_count": 108,
      "outputs": [
        {
          "output_type": "execute_result",
          "data": {
            "text/html": [
              "<div>\n",
              "<style scoped>\n",
              "    .dataframe tbody tr th:only-of-type {\n",
              "        vertical-align: middle;\n",
              "    }\n",
              "\n",
              "    .dataframe tbody tr th {\n",
              "        vertical-align: top;\n",
              "    }\n",
              "\n",
              "    .dataframe thead th {\n",
              "        text-align: right;\n",
              "    }\n",
              "</style>\n",
              "<table border=\"1\" class=\"dataframe\">\n",
              "  <thead>\n",
              "    <tr style=\"text-align: right;\">\n",
              "      <th></th>\n",
              "      <th>age</th>\n",
              "      <th>default</th>\n",
              "      <th>balance</th>\n",
              "      <th>housing</th>\n",
              "      <th>loan</th>\n",
              "      <th>duration</th>\n",
              "      <th>campaign</th>\n",
              "      <th>pdays</th>\n",
              "      <th>previous</th>\n",
              "      <th>output</th>\n",
              "      <th>job_blue-collar</th>\n",
              "      <th>job_entrepreneur</th>\n",
              "      <th>job_housemaid</th>\n",
              "      <th>job_management</th>\n",
              "      <th>job_retired</th>\n",
              "      <th>job_self-employed</th>\n",
              "      <th>job_services</th>\n",
              "      <th>job_student</th>\n",
              "      <th>job_technician</th>\n",
              "      <th>job_unemployed</th>\n",
              "      <th>job_unknown</th>\n",
              "      <th>marital_married</th>\n",
              "      <th>marital_single</th>\n",
              "      <th>education_secondary</th>\n",
              "      <th>education_tertiary</th>\n",
              "      <th>education_unknown</th>\n",
              "    </tr>\n",
              "  </thead>\n",
              "  <tbody>\n",
              "    <tr>\n",
              "      <th>0</th>\n",
              "      <td>58</td>\n",
              "      <td>0</td>\n",
              "      <td>2143</td>\n",
              "      <td>1</td>\n",
              "      <td>0</td>\n",
              "      <td>261</td>\n",
              "      <td>1</td>\n",
              "      <td>-1</td>\n",
              "      <td>0</td>\n",
              "      <td>0</td>\n",
              "      <td>0</td>\n",
              "      <td>0</td>\n",
              "      <td>0</td>\n",
              "      <td>1</td>\n",
              "      <td>0</td>\n",
              "      <td>0</td>\n",
              "      <td>0</td>\n",
              "      <td>0</td>\n",
              "      <td>0</td>\n",
              "      <td>0</td>\n",
              "      <td>0</td>\n",
              "      <td>1</td>\n",
              "      <td>0</td>\n",
              "      <td>0</td>\n",
              "      <td>1</td>\n",
              "      <td>0</td>\n",
              "    </tr>\n",
              "    <tr>\n",
              "      <th>1</th>\n",
              "      <td>44</td>\n",
              "      <td>0</td>\n",
              "      <td>29</td>\n",
              "      <td>1</td>\n",
              "      <td>0</td>\n",
              "      <td>151</td>\n",
              "      <td>1</td>\n",
              "      <td>-1</td>\n",
              "      <td>0</td>\n",
              "      <td>0</td>\n",
              "      <td>0</td>\n",
              "      <td>0</td>\n",
              "      <td>0</td>\n",
              "      <td>0</td>\n",
              "      <td>0</td>\n",
              "      <td>0</td>\n",
              "      <td>0</td>\n",
              "      <td>0</td>\n",
              "      <td>1</td>\n",
              "      <td>0</td>\n",
              "      <td>0</td>\n",
              "      <td>0</td>\n",
              "      <td>1</td>\n",
              "      <td>1</td>\n",
              "      <td>0</td>\n",
              "      <td>0</td>\n",
              "    </tr>\n",
              "    <tr>\n",
              "      <th>2</th>\n",
              "      <td>33</td>\n",
              "      <td>0</td>\n",
              "      <td>2</td>\n",
              "      <td>1</td>\n",
              "      <td>1</td>\n",
              "      <td>76</td>\n",
              "      <td>1</td>\n",
              "      <td>-1</td>\n",
              "      <td>0</td>\n",
              "      <td>0</td>\n",
              "      <td>0</td>\n",
              "      <td>1</td>\n",
              "      <td>0</td>\n",
              "      <td>0</td>\n",
              "      <td>0</td>\n",
              "      <td>0</td>\n",
              "      <td>0</td>\n",
              "      <td>0</td>\n",
              "      <td>0</td>\n",
              "      <td>0</td>\n",
              "      <td>0</td>\n",
              "      <td>1</td>\n",
              "      <td>0</td>\n",
              "      <td>1</td>\n",
              "      <td>0</td>\n",
              "      <td>0</td>\n",
              "    </tr>\n",
              "    <tr>\n",
              "      <th>3</th>\n",
              "      <td>47</td>\n",
              "      <td>0</td>\n",
              "      <td>1506</td>\n",
              "      <td>1</td>\n",
              "      <td>0</td>\n",
              "      <td>92</td>\n",
              "      <td>1</td>\n",
              "      <td>-1</td>\n",
              "      <td>0</td>\n",
              "      <td>0</td>\n",
              "      <td>1</td>\n",
              "      <td>0</td>\n",
              "      <td>0</td>\n",
              "      <td>0</td>\n",
              "      <td>0</td>\n",
              "      <td>0</td>\n",
              "      <td>0</td>\n",
              "      <td>0</td>\n",
              "      <td>0</td>\n",
              "      <td>0</td>\n",
              "      <td>0</td>\n",
              "      <td>1</td>\n",
              "      <td>0</td>\n",
              "      <td>0</td>\n",
              "      <td>0</td>\n",
              "      <td>1</td>\n",
              "    </tr>\n",
              "    <tr>\n",
              "      <th>4</th>\n",
              "      <td>33</td>\n",
              "      <td>0</td>\n",
              "      <td>1</td>\n",
              "      <td>0</td>\n",
              "      <td>0</td>\n",
              "      <td>198</td>\n",
              "      <td>1</td>\n",
              "      <td>-1</td>\n",
              "      <td>0</td>\n",
              "      <td>0</td>\n",
              "      <td>0</td>\n",
              "      <td>0</td>\n",
              "      <td>0</td>\n",
              "      <td>0</td>\n",
              "      <td>0</td>\n",
              "      <td>0</td>\n",
              "      <td>0</td>\n",
              "      <td>0</td>\n",
              "      <td>0</td>\n",
              "      <td>0</td>\n",
              "      <td>1</td>\n",
              "      <td>0</td>\n",
              "      <td>1</td>\n",
              "      <td>0</td>\n",
              "      <td>0</td>\n",
              "      <td>1</td>\n",
              "    </tr>\n",
              "  </tbody>\n",
              "</table>\n",
              "</div>"
            ],
            "text/plain": [
              "   age  default  ...  education_tertiary  education_unknown\n",
              "0   58        0  ...                   1                  0\n",
              "1   44        0  ...                   0                  0\n",
              "2   33        0  ...                   0                  0\n",
              "3   47        0  ...                   0                  1\n",
              "4   33        0  ...                   0                  1\n",
              "\n",
              "[5 rows x 26 columns]"
            ]
          },
          "metadata": {
            "tags": []
          },
          "execution_count": 108
        }
      ]
    },
    {
      "cell_type": "code",
      "metadata": {
        "id": "51WqaqUCImQF"
      },
      "source": [
        "X = df.drop(['output'], axis=1)\n",
        "y = df['output']"
      ],
      "execution_count": 109,
      "outputs": []
    },
    {
      "cell_type": "code",
      "metadata": {
        "id": "8N2BaK_cHGtq"
      },
      "source": [
        "from sklearn.model_selection import train_test_split\n",
        "\n",
        "# Specifying seed, so we always get same rows for train and test dataset respectively\n",
        "np.random.seed(0)\n",
        "\n",
        "X_train, X_test, y_train, y_test = train_test_split(X, y, train_size = 0.7, random_state = 100, stratify=y)"
      ],
      "execution_count": 110,
      "outputs": []
    },
    {
      "cell_type": "code",
      "metadata": {
        "id": "VoSKaesDJn7K",
        "colab": {
          "base_uri": "https://localhost:8080/"
        },
        "outputId": "9ebe927c-db4b-4afd-c8fd-fab580e5c2f8"
      },
      "source": [
        "y_train.value_counts(normalize=True)"
      ],
      "execution_count": 111,
      "outputs": [
        {
          "output_type": "execute_result",
          "data": {
            "text/plain": [
              "0    0.883022\n",
              "1    0.116978\n",
              "Name: output, dtype: float64"
            ]
          },
          "metadata": {
            "tags": []
          },
          "execution_count": 111
        }
      ]
    },
    {
      "cell_type": "code",
      "metadata": {
        "id": "WnPw-t6SJr1H",
        "colab": {
          "base_uri": "https://localhost:8080/"
        },
        "outputId": "dace2a43-82f2-40f4-fed7-cbc2e48f613d"
      },
      "source": [
        "y_test.value_counts(normalize=True)"
      ],
      "execution_count": 112,
      "outputs": [
        {
          "output_type": "execute_result",
          "data": {
            "text/plain": [
              "0    0.882999\n",
              "1    0.117001\n",
              "Name: output, dtype: float64"
            ]
          },
          "metadata": {
            "tags": []
          },
          "execution_count": 112
        }
      ]
    },
    {
      "cell_type": "code",
      "metadata": {
        "colab": {
          "base_uri": "https://localhost:8080/"
        },
        "id": "g9anE2rJSwuC",
        "outputId": "b2ca24a2-aad5-457e-909b-f1e608484421"
      },
      "source": [
        "num_cols=X_train.select_dtypes(include=['float64', 'int64']).columns.values\n",
        "for i in num_cols:\n",
        "    print('----------', i, '----------\\n', df[i].value_counts(),'\\n-----------------------------', sep='')"
      ],
      "execution_count": 113,
      "outputs": [
        {
          "output_type": "stream",
          "text": [
            "----------age----------\n",
            "32    2085\n",
            "31    1996\n",
            "33    1972\n",
            "34    1930\n",
            "35    1894\n",
            "      ... \n",
            "90       2\n",
            "92       2\n",
            "93       2\n",
            "95       2\n",
            "94       1\n",
            "Name: age, Length: 77, dtype: int64\n",
            "-----------------------------\n",
            "----------default----------\n",
            "0    44396\n",
            "1      815\n",
            "Name: default, dtype: int64\n",
            "-----------------------------\n",
            "----------balance----------\n",
            "0        3514\n",
            "1         195\n",
            "2         156\n",
            "4         139\n",
            "3         134\n",
            "         ... \n",
            "4305        1\n",
            "6352        1\n",
            "18881       1\n",
            "14889       1\n",
            "7218        1\n",
            "Name: balance, Length: 7168, dtype: int64\n",
            "-----------------------------\n",
            "----------housing----------\n",
            "1    25130\n",
            "0    20081\n",
            "Name: housing, dtype: int64\n",
            "-----------------------------\n",
            "----------loan----------\n",
            "0    37967\n",
            "1     7244\n",
            "Name: loan, dtype: int64\n",
            "-----------------------------\n",
            "----------duration----------\n",
            "124     188\n",
            "90      184\n",
            "89      177\n",
            "122     175\n",
            "104     175\n",
            "       ... \n",
            "2150      1\n",
            "1970      1\n",
            "1906      1\n",
            "1842      1\n",
            "2015      1\n",
            "Name: duration, Length: 1573, dtype: int64\n",
            "-----------------------------\n",
            "----------campaign----------\n",
            "1     17544\n",
            "2     12505\n",
            "3      5521\n",
            "4      3522\n",
            "5      1764\n",
            "6      1291\n",
            "7       735\n",
            "8       540\n",
            "9       327\n",
            "10      266\n",
            "11      201\n",
            "12      155\n",
            "13      133\n",
            "14       93\n",
            "15       84\n",
            "16       79\n",
            "17       69\n",
            "18       51\n",
            "19       44\n",
            "20       43\n",
            "21       35\n",
            "22       23\n",
            "23       22\n",
            "25       22\n",
            "24       20\n",
            "28       16\n",
            "29       16\n",
            "26       13\n",
            "31       12\n",
            "27       10\n",
            "32        9\n",
            "30        8\n",
            "33        6\n",
            "34        5\n",
            "36        4\n",
            "35        4\n",
            "43        3\n",
            "38        3\n",
            "41        2\n",
            "50        2\n",
            "37        2\n",
            "51        1\n",
            "55        1\n",
            "46        1\n",
            "58        1\n",
            "44        1\n",
            "39        1\n",
            "63        1\n",
            "Name: campaign, dtype: int64\n",
            "-----------------------------\n",
            "----------pdays----------\n",
            "-1      36954\n",
            " 182      167\n",
            " 92       147\n",
            " 183      126\n",
            " 91       126\n",
            "        ...  \n",
            " 749        1\n",
            " 717        1\n",
            " 589        1\n",
            " 493        1\n",
            " 32         1\n",
            "Name: pdays, Length: 559, dtype: int64\n",
            "-----------------------------\n",
            "----------previous----------\n",
            "0      36954\n",
            "1       2772\n",
            "2       2106\n",
            "3       1142\n",
            "4        714\n",
            "5        459\n",
            "6        277\n",
            "7        205\n",
            "8        129\n",
            "9         92\n",
            "10        67\n",
            "11        65\n",
            "12        44\n",
            "13        38\n",
            "15        20\n",
            "14        19\n",
            "17        15\n",
            "16        13\n",
            "19        11\n",
            "23         8\n",
            "20         8\n",
            "22         6\n",
            "18         6\n",
            "24         5\n",
            "27         5\n",
            "29         4\n",
            "25         4\n",
            "21         4\n",
            "30         3\n",
            "28         2\n",
            "26         2\n",
            "37         2\n",
            "38         2\n",
            "55         1\n",
            "40         1\n",
            "35         1\n",
            "58         1\n",
            "51         1\n",
            "41         1\n",
            "32         1\n",
            "275        1\n",
            "Name: previous, dtype: int64\n",
            "-----------------------------\n"
          ],
          "name": "stdout"
        }
      ]
    },
    {
      "cell_type": "code",
      "metadata": {
        "id": "QQWu0lNvTPzO"
      },
      "source": [
        "num_cols = list(num_cols)\n",
        "num_cols.remove('loan')\n",
        "num_cols.remove('housing')\n",
        "num_cols.remove('default')"
      ],
      "execution_count": 114,
      "outputs": []
    },
    {
      "cell_type": "code",
      "metadata": {
        "colab": {
          "base_uri": "https://localhost:8080/",
          "height": 660
        },
        "id": "e5dxB63uKQd1",
        "outputId": "a9a4dce7-0ef2-414f-dbe3-178a728a05c0"
      },
      "source": [
        "#scaling numeric columns\n",
        "\n",
        "from sklearn.preprocessing import StandardScaler\n",
        "\n",
        "scaler = StandardScaler()\n",
        "\n",
        "X_train[num_cols] = scaler.fit_transform(X_train[num_cols])\n",
        "\n",
        "X_train"
      ],
      "execution_count": 115,
      "outputs": [
        {
          "output_type": "stream",
          "text": [
            "/usr/local/lib/python3.7/dist-packages/ipykernel_launcher.py:7: SettingWithCopyWarning: \n",
            "A value is trying to be set on a copy of a slice from a DataFrame.\n",
            "Try using .loc[row_indexer,col_indexer] = value instead\n",
            "\n",
            "See the caveats in the documentation: https://pandas.pydata.org/pandas-docs/stable/user_guide/indexing.html#returning-a-view-versus-a-copy\n",
            "  import sys\n",
            "/usr/local/lib/python3.7/dist-packages/pandas/core/indexing.py:1734: SettingWithCopyWarning: \n",
            "A value is trying to be set on a copy of a slice from a DataFrame.\n",
            "Try using .loc[row_indexer,col_indexer] = value instead\n",
            "\n",
            "See the caveats in the documentation: https://pandas.pydata.org/pandas-docs/stable/user_guide/indexing.html#returning-a-view-versus-a-copy\n",
            "  isetter(loc, value[:, i].tolist())\n"
          ],
          "name": "stderr"
        },
        {
          "output_type": "execute_result",
          "data": {
            "text/html": [
              "<div>\n",
              "<style scoped>\n",
              "    .dataframe tbody tr th:only-of-type {\n",
              "        vertical-align: middle;\n",
              "    }\n",
              "\n",
              "    .dataframe tbody tr th {\n",
              "        vertical-align: top;\n",
              "    }\n",
              "\n",
              "    .dataframe thead th {\n",
              "        text-align: right;\n",
              "    }\n",
              "</style>\n",
              "<table border=\"1\" class=\"dataframe\">\n",
              "  <thead>\n",
              "    <tr style=\"text-align: right;\">\n",
              "      <th></th>\n",
              "      <th>age</th>\n",
              "      <th>default</th>\n",
              "      <th>balance</th>\n",
              "      <th>housing</th>\n",
              "      <th>loan</th>\n",
              "      <th>duration</th>\n",
              "      <th>campaign</th>\n",
              "      <th>pdays</th>\n",
              "      <th>previous</th>\n",
              "      <th>job_blue-collar</th>\n",
              "      <th>job_entrepreneur</th>\n",
              "      <th>job_housemaid</th>\n",
              "      <th>job_management</th>\n",
              "      <th>job_retired</th>\n",
              "      <th>job_self-employed</th>\n",
              "      <th>job_services</th>\n",
              "      <th>job_student</th>\n",
              "      <th>job_technician</th>\n",
              "      <th>job_unemployed</th>\n",
              "      <th>job_unknown</th>\n",
              "      <th>marital_married</th>\n",
              "      <th>marital_single</th>\n",
              "      <th>education_secondary</th>\n",
              "      <th>education_tertiary</th>\n",
              "      <th>education_unknown</th>\n",
              "    </tr>\n",
              "  </thead>\n",
              "  <tbody>\n",
              "    <tr>\n",
              "      <th>44481</th>\n",
              "      <td>1.047863</td>\n",
              "      <td>0</td>\n",
              "      <td>-0.446361</td>\n",
              "      <td>0</td>\n",
              "      <td>0</td>\n",
              "      <td>-0.441644</td>\n",
              "      <td>0.078624</td>\n",
              "      <td>0.536601</td>\n",
              "      <td>1.392249</td>\n",
              "      <td>0</td>\n",
              "      <td>0</td>\n",
              "      <td>0</td>\n",
              "      <td>0</td>\n",
              "      <td>0</td>\n",
              "      <td>0</td>\n",
              "      <td>0</td>\n",
              "      <td>0</td>\n",
              "      <td>1</td>\n",
              "      <td>0</td>\n",
              "      <td>0</td>\n",
              "      <td>1</td>\n",
              "      <td>0</td>\n",
              "      <td>0</td>\n",
              "      <td>1</td>\n",
              "      <td>0</td>\n",
              "    </tr>\n",
              "    <tr>\n",
              "      <th>25167</th>\n",
              "      <td>-0.462281</td>\n",
              "      <td>0</td>\n",
              "      <td>-0.446361</td>\n",
              "      <td>1</td>\n",
              "      <td>0</td>\n",
              "      <td>3.265546</td>\n",
              "      <td>-0.243851</td>\n",
              "      <td>-0.410917</td>\n",
              "      <td>-0.238248</td>\n",
              "      <td>0</td>\n",
              "      <td>0</td>\n",
              "      <td>0</td>\n",
              "      <td>0</td>\n",
              "      <td>0</td>\n",
              "      <td>0</td>\n",
              "      <td>1</td>\n",
              "      <td>0</td>\n",
              "      <td>0</td>\n",
              "      <td>0</td>\n",
              "      <td>0</td>\n",
              "      <td>1</td>\n",
              "      <td>0</td>\n",
              "      <td>1</td>\n",
              "      <td>0</td>\n",
              "      <td>0</td>\n",
              "    </tr>\n",
              "    <tr>\n",
              "      <th>40209</th>\n",
              "      <td>-1.500505</td>\n",
              "      <td>0</td>\n",
              "      <td>1.603911</td>\n",
              "      <td>0</td>\n",
              "      <td>0</td>\n",
              "      <td>-0.625439</td>\n",
              "      <td>0.078624</td>\n",
              "      <td>-0.410917</td>\n",
              "      <td>-0.238248</td>\n",
              "      <td>0</td>\n",
              "      <td>0</td>\n",
              "      <td>0</td>\n",
              "      <td>1</td>\n",
              "      <td>0</td>\n",
              "      <td>0</td>\n",
              "      <td>0</td>\n",
              "      <td>0</td>\n",
              "      <td>0</td>\n",
              "      <td>0</td>\n",
              "      <td>0</td>\n",
              "      <td>0</td>\n",
              "      <td>1</td>\n",
              "      <td>0</td>\n",
              "      <td>1</td>\n",
              "      <td>0</td>\n",
              "    </tr>\n",
              "    <tr>\n",
              "      <th>30954</th>\n",
              "      <td>-0.462281</td>\n",
              "      <td>0</td>\n",
              "      <td>-0.408612</td>\n",
              "      <td>0</td>\n",
              "      <td>0</td>\n",
              "      <td>-0.731023</td>\n",
              "      <td>-0.243851</td>\n",
              "      <td>-0.410917</td>\n",
              "      <td>-0.238248</td>\n",
              "      <td>0</td>\n",
              "      <td>0</td>\n",
              "      <td>0</td>\n",
              "      <td>0</td>\n",
              "      <td>0</td>\n",
              "      <td>0</td>\n",
              "      <td>0</td>\n",
              "      <td>0</td>\n",
              "      <td>0</td>\n",
              "      <td>1</td>\n",
              "      <td>0</td>\n",
              "      <td>0</td>\n",
              "      <td>1</td>\n",
              "      <td>1</td>\n",
              "      <td>0</td>\n",
              "      <td>0</td>\n",
              "    </tr>\n",
              "    <tr>\n",
              "      <th>26429</th>\n",
              "      <td>1.047863</td>\n",
              "      <td>0</td>\n",
              "      <td>0.954954</td>\n",
              "      <td>1</td>\n",
              "      <td>1</td>\n",
              "      <td>-0.836608</td>\n",
              "      <td>-0.566326</td>\n",
              "      <td>-0.410917</td>\n",
              "      <td>-0.238248</td>\n",
              "      <td>1</td>\n",
              "      <td>0</td>\n",
              "      <td>0</td>\n",
              "      <td>0</td>\n",
              "      <td>0</td>\n",
              "      <td>0</td>\n",
              "      <td>0</td>\n",
              "      <td>0</td>\n",
              "      <td>0</td>\n",
              "      <td>0</td>\n",
              "      <td>0</td>\n",
              "      <td>1</td>\n",
              "      <td>0</td>\n",
              "      <td>1</td>\n",
              "      <td>0</td>\n",
              "      <td>0</td>\n",
              "    </tr>\n",
              "    <tr>\n",
              "      <th>...</th>\n",
              "      <td>...</td>\n",
              "      <td>...</td>\n",
              "      <td>...</td>\n",
              "      <td>...</td>\n",
              "      <td>...</td>\n",
              "      <td>...</td>\n",
              "      <td>...</td>\n",
              "      <td>...</td>\n",
              "      <td>...</td>\n",
              "      <td>...</td>\n",
              "      <td>...</td>\n",
              "      <td>...</td>\n",
              "      <td>...</td>\n",
              "      <td>...</td>\n",
              "      <td>...</td>\n",
              "      <td>...</td>\n",
              "      <td>...</td>\n",
              "      <td>...</td>\n",
              "      <td>...</td>\n",
              "      <td>...</td>\n",
              "      <td>...</td>\n",
              "      <td>...</td>\n",
              "      <td>...</td>\n",
              "      <td>...</td>\n",
              "      <td>...</td>\n",
              "    </tr>\n",
              "    <tr>\n",
              "      <th>22013</th>\n",
              "      <td>1.519784</td>\n",
              "      <td>0</td>\n",
              "      <td>-0.446361</td>\n",
              "      <td>0</td>\n",
              "      <td>0</td>\n",
              "      <td>-0.023216</td>\n",
              "      <td>0.078624</td>\n",
              "      <td>-0.410917</td>\n",
              "      <td>-0.238248</td>\n",
              "      <td>0</td>\n",
              "      <td>0</td>\n",
              "      <td>1</td>\n",
              "      <td>0</td>\n",
              "      <td>0</td>\n",
              "      <td>0</td>\n",
              "      <td>0</td>\n",
              "      <td>0</td>\n",
              "      <td>0</td>\n",
              "      <td>0</td>\n",
              "      <td>0</td>\n",
              "      <td>1</td>\n",
              "      <td>0</td>\n",
              "      <td>0</td>\n",
              "      <td>0</td>\n",
              "      <td>0</td>\n",
              "    </tr>\n",
              "    <tr>\n",
              "      <th>39259</th>\n",
              "      <td>1.425400</td>\n",
              "      <td>0</td>\n",
              "      <td>-0.158811</td>\n",
              "      <td>1</td>\n",
              "      <td>0</td>\n",
              "      <td>-0.644991</td>\n",
              "      <td>-0.243851</td>\n",
              "      <td>-0.410917</td>\n",
              "      <td>-0.238248</td>\n",
              "      <td>1</td>\n",
              "      <td>0</td>\n",
              "      <td>0</td>\n",
              "      <td>0</td>\n",
              "      <td>0</td>\n",
              "      <td>0</td>\n",
              "      <td>0</td>\n",
              "      <td>0</td>\n",
              "      <td>0</td>\n",
              "      <td>0</td>\n",
              "      <td>0</td>\n",
              "      <td>1</td>\n",
              "      <td>0</td>\n",
              "      <td>1</td>\n",
              "      <td>0</td>\n",
              "      <td>0</td>\n",
              "    </tr>\n",
              "    <tr>\n",
              "      <th>8859</th>\n",
              "      <td>-0.934201</td>\n",
              "      <td>0</td>\n",
              "      <td>-0.329831</td>\n",
              "      <td>1</td>\n",
              "      <td>1</td>\n",
              "      <td>-0.770129</td>\n",
              "      <td>1.046050</td>\n",
              "      <td>-0.410917</td>\n",
              "      <td>-0.238248</td>\n",
              "      <td>0</td>\n",
              "      <td>0</td>\n",
              "      <td>0</td>\n",
              "      <td>0</td>\n",
              "      <td>0</td>\n",
              "      <td>0</td>\n",
              "      <td>0</td>\n",
              "      <td>0</td>\n",
              "      <td>0</td>\n",
              "      <td>0</td>\n",
              "      <td>0</td>\n",
              "      <td>1</td>\n",
              "      <td>0</td>\n",
              "      <td>0</td>\n",
              "      <td>0</td>\n",
              "      <td>0</td>\n",
              "    </tr>\n",
              "    <tr>\n",
              "      <th>36047</th>\n",
              "      <td>0.009639</td>\n",
              "      <td>0</td>\n",
              "      <td>-0.517592</td>\n",
              "      <td>1</td>\n",
              "      <td>0</td>\n",
              "      <td>0.215327</td>\n",
              "      <td>-0.566326</td>\n",
              "      <td>3.079936</td>\n",
              "      <td>0.984625</td>\n",
              "      <td>1</td>\n",
              "      <td>0</td>\n",
              "      <td>0</td>\n",
              "      <td>0</td>\n",
              "      <td>0</td>\n",
              "      <td>0</td>\n",
              "      <td>0</td>\n",
              "      <td>0</td>\n",
              "      <td>0</td>\n",
              "      <td>0</td>\n",
              "      <td>0</td>\n",
              "      <td>1</td>\n",
              "      <td>0</td>\n",
              "      <td>1</td>\n",
              "      <td>0</td>\n",
              "      <td>0</td>\n",
              "    </tr>\n",
              "    <tr>\n",
              "      <th>43761</th>\n",
              "      <td>0.575943</td>\n",
              "      <td>0</td>\n",
              "      <td>0.068341</td>\n",
              "      <td>1</td>\n",
              "      <td>0</td>\n",
              "      <td>-0.124890</td>\n",
              "      <td>0.078624</td>\n",
              "      <td>0.506679</td>\n",
              "      <td>3.022746</td>\n",
              "      <td>1</td>\n",
              "      <td>0</td>\n",
              "      <td>0</td>\n",
              "      <td>0</td>\n",
              "      <td>0</td>\n",
              "      <td>0</td>\n",
              "      <td>0</td>\n",
              "      <td>0</td>\n",
              "      <td>0</td>\n",
              "      <td>0</td>\n",
              "      <td>0</td>\n",
              "      <td>1</td>\n",
              "      <td>0</td>\n",
              "      <td>1</td>\n",
              "      <td>0</td>\n",
              "      <td>0</td>\n",
              "    </tr>\n",
              "  </tbody>\n",
              "</table>\n",
              "<p>31647 rows × 25 columns</p>\n",
              "</div>"
            ],
            "text/plain": [
              "            age  default  ...  education_tertiary  education_unknown\n",
              "44481  1.047863        0  ...                   1                  0\n",
              "25167 -0.462281        0  ...                   0                  0\n",
              "40209 -1.500505        0  ...                   1                  0\n",
              "30954 -0.462281        0  ...                   0                  0\n",
              "26429  1.047863        0  ...                   0                  0\n",
              "...         ...      ...  ...                 ...                ...\n",
              "22013  1.519784        0  ...                   0                  0\n",
              "39259  1.425400        0  ...                   0                  0\n",
              "8859  -0.934201        0  ...                   0                  0\n",
              "36047  0.009639        0  ...                   0                  0\n",
              "43761  0.575943        0  ...                   0                  0\n",
              "\n",
              "[31647 rows x 25 columns]"
            ]
          },
          "metadata": {
            "tags": []
          },
          "execution_count": 115
        }
      ]
    },
    {
      "cell_type": "markdown",
      "metadata": {
        "id": "kyASDl6LKp1H"
      },
      "source": [
        "# Model Building using Stats Model & RFE:"
      ]
    },
    {
      "cell_type": "code",
      "metadata": {
        "id": "ffhTXbR9KkXb"
      },
      "source": [
        "import statsmodels.api as sm"
      ],
      "execution_count": 116,
      "outputs": []
    },
    {
      "cell_type": "code",
      "metadata": {
        "id": "EIFvK3TWKoz7"
      },
      "source": [
        "from sklearn.linear_model import LogisticRegression\n",
        "logreg = LogisticRegression()\n",
        "\n",
        "from sklearn.feature_selection import RFE\n",
        "rfe = RFE(logreg, 20)             # running RFE with 20 variables as output\n",
        "rfe = rfe.fit(X_train, y_train)"
      ],
      "execution_count": 117,
      "outputs": []
    },
    {
      "cell_type": "code",
      "metadata": {
        "colab": {
          "base_uri": "https://localhost:8080/"
        },
        "id": "cvYfTO8uK3Aa",
        "outputId": "e657566a-58f7-4c63-9a77-1cbbcad1d88e"
      },
      "source": [
        "rfe.support_"
      ],
      "execution_count": 118,
      "outputs": [
        {
          "output_type": "execute_result",
          "data": {
            "text/plain": [
              "array([False,  True, False,  True,  True,  True,  True,  True,  True,\n",
              "        True,  True,  True, False,  True,  True,  True,  True,  True,\n",
              "       False,  True, False,  True,  True,  True,  True])"
            ]
          },
          "metadata": {
            "tags": []
          },
          "execution_count": 118
        }
      ]
    },
    {
      "cell_type": "code",
      "metadata": {
        "colab": {
          "base_uri": "https://localhost:8080/"
        },
        "id": "LjWBnTaNK9Km",
        "outputId": "5ba79c71-8c27-45e1-dee7-5d8c628c602b"
      },
      "source": [
        "list(zip(X_train.columns, rfe.support_, rfe.ranking_))"
      ],
      "execution_count": 119,
      "outputs": [
        {
          "output_type": "execute_result",
          "data": {
            "text/plain": [
              "[('age', False, 4),\n",
              " ('default', True, 1),\n",
              " ('balance', False, 5),\n",
              " ('housing', True, 1),\n",
              " ('loan', True, 1),\n",
              " ('duration', True, 1),\n",
              " ('campaign', True, 1),\n",
              " ('pdays', True, 1),\n",
              " ('previous', True, 1),\n",
              " ('job_blue-collar', True, 1),\n",
              " ('job_entrepreneur', True, 1),\n",
              " ('job_housemaid', True, 1),\n",
              " ('job_management', False, 2),\n",
              " ('job_retired', True, 1),\n",
              " ('job_self-employed', True, 1),\n",
              " ('job_services', True, 1),\n",
              " ('job_student', True, 1),\n",
              " ('job_technician', True, 1),\n",
              " ('job_unemployed', False, 3),\n",
              " ('job_unknown', True, 1),\n",
              " ('marital_married', False, 6),\n",
              " ('marital_single', True, 1),\n",
              " ('education_secondary', True, 1),\n",
              " ('education_tertiary', True, 1),\n",
              " ('education_unknown', True, 1)]"
            ]
          },
          "metadata": {
            "tags": []
          },
          "execution_count": 119
        }
      ]
    },
    {
      "cell_type": "code",
      "metadata": {
        "colab": {
          "base_uri": "https://localhost:8080/"
        },
        "id": "YetNVXOALLQb",
        "outputId": "afc222ad-75ca-4ac8-97a4-17ba68bd9960"
      },
      "source": [
        "#list of RFE supported columns\n",
        "cols = X_train.columns[rfe.support_]\n",
        "cols"
      ],
      "execution_count": 120,
      "outputs": [
        {
          "output_type": "execute_result",
          "data": {
            "text/plain": [
              "Index(['default', 'housing', 'loan', 'duration', 'campaign', 'pdays',\n",
              "       'previous', 'job_blue-collar', 'job_entrepreneur', 'job_housemaid',\n",
              "       'job_retired', 'job_self-employed', 'job_services', 'job_student',\n",
              "       'job_technician', 'job_unknown', 'marital_single',\n",
              "       'education_secondary', 'education_tertiary', 'education_unknown'],\n",
              "      dtype='object')"
            ]
          },
          "metadata": {
            "tags": []
          },
          "execution_count": 120
        }
      ]
    },
    {
      "cell_type": "code",
      "metadata": {
        "colab": {
          "base_uri": "https://localhost:8080/",
          "height": 689
        },
        "id": "rZhfFkNaLP9a",
        "outputId": "77eee37a-28e9-485e-e855-38b968a3df25"
      },
      "source": [
        "#BUILDING MODEL #1\n",
        "\n",
        "X_train_sm = sm.add_constant(X_train[cols])\n",
        "logm1 = sm.GLM(y_train,X_train_sm, family=sm.families.Binomial()).fit()\n",
        "logm1.summary()"
      ],
      "execution_count": 121,
      "outputs": [
        {
          "output_type": "execute_result",
          "data": {
            "text/html": [
              "<table class=\"simpletable\">\n",
              "<caption>Generalized Linear Model Regression Results</caption>\n",
              "<tr>\n",
              "  <th>Dep. Variable:</th>        <td>output</td>      <th>  No. Observations:  </th>  <td> 31647</td> \n",
              "</tr>\n",
              "<tr>\n",
              "  <th>Model:</th>                  <td>GLM</td>       <th>  Df Residuals:      </th>  <td> 31626</td> \n",
              "</tr>\n",
              "<tr>\n",
              "  <th>Model Family:</th>        <td>Binomial</td>     <th>  Df Model:          </th>  <td>    20</td> \n",
              "</tr>\n",
              "<tr>\n",
              "  <th>Link Function:</th>         <td>logit</td>      <th>  Scale:             </th> <td>  1.0000</td>\n",
              "</tr>\n",
              "<tr>\n",
              "  <th>Method:</th>                <td>IRLS</td>       <th>  Log-Likelihood:    </th> <td> -8595.6</td>\n",
              "</tr>\n",
              "<tr>\n",
              "  <th>Date:</th>            <td>Sat, 03 Jul 2021</td> <th>  Deviance:          </th> <td>  17191.</td>\n",
              "</tr>\n",
              "<tr>\n",
              "  <th>Time:</th>                <td>12:57:48</td>     <th>  Pearson chi2:      </th> <td>3.59e+08</td>\n",
              "</tr>\n",
              "<tr>\n",
              "  <th>No. Iterations:</th>          <td>7</td>        <th>                     </th>     <td> </td>   \n",
              "</tr>\n",
              "<tr>\n",
              "  <th>Covariance Type:</th>     <td>nonrobust</td>    <th>                     </th>     <td> </td>   \n",
              "</tr>\n",
              "</table>\n",
              "<table class=\"simpletable\">\n",
              "<tr>\n",
              "           <td></td>              <th>coef</th>     <th>std err</th>      <th>z</th>      <th>P>|z|</th>  <th>[0.025</th>    <th>0.975]</th>  \n",
              "</tr>\n",
              "<tr>\n",
              "  <th>const</th>               <td>   -2.1066</td> <td>    0.080</td> <td>  -26.448</td> <td> 0.000</td> <td>   -2.263</td> <td>   -1.950</td>\n",
              "</tr>\n",
              "<tr>\n",
              "  <th>default</th>             <td>   -0.3451</td> <td>    0.191</td> <td>   -1.811</td> <td> 0.070</td> <td>   -0.719</td> <td>    0.028</td>\n",
              "</tr>\n",
              "<tr>\n",
              "  <th>housing</th>             <td>   -1.0863</td> <td>    0.044</td> <td>  -24.559</td> <td> 0.000</td> <td>   -1.173</td> <td>   -1.000</td>\n",
              "</tr>\n",
              "<tr>\n",
              "  <th>loan</th>                <td>   -0.6631</td> <td>    0.068</td> <td>   -9.793</td> <td> 0.000</td> <td>   -0.796</td> <td>   -0.530</td>\n",
              "</tr>\n",
              "<tr>\n",
              "  <th>duration</th>            <td>    1.0004</td> <td>    0.018</td> <td>   54.304</td> <td> 0.000</td> <td>    0.964</td> <td>    1.037</td>\n",
              "</tr>\n",
              "<tr>\n",
              "  <th>campaign</th>            <td>   -0.4220</td> <td>    0.037</td> <td>  -11.353</td> <td> 0.000</td> <td>   -0.495</td> <td>   -0.349</td>\n",
              "</tr>\n",
              "<tr>\n",
              "  <th>pdays</th>               <td>    0.2866</td> <td>    0.020</td> <td>   14.511</td> <td> 0.000</td> <td>    0.248</td> <td>    0.325</td>\n",
              "</tr>\n",
              "<tr>\n",
              "  <th>previous</th>            <td>    0.1907</td> <td>    0.023</td> <td>    8.266</td> <td> 0.000</td> <td>    0.146</td> <td>    0.236</td>\n",
              "</tr>\n",
              "<tr>\n",
              "  <th>job_blue-collar</th>     <td>   -0.4230</td> <td>    0.070</td> <td>   -6.044</td> <td> 0.000</td> <td>   -0.560</td> <td>   -0.286</td>\n",
              "</tr>\n",
              "<tr>\n",
              "  <th>job_entrepreneur</th>    <td>   -0.3944</td> <td>    0.126</td> <td>   -3.124</td> <td> 0.002</td> <td>   -0.642</td> <td>   -0.147</td>\n",
              "</tr>\n",
              "<tr>\n",
              "  <th>job_housemaid</th>       <td>   -0.6732</td> <td>    0.156</td> <td>   -4.327</td> <td> 0.000</td> <td>   -0.978</td> <td>   -0.368</td>\n",
              "</tr>\n",
              "<tr>\n",
              "  <th>job_retired</th>         <td>    0.5586</td> <td>    0.081</td> <td>    6.859</td> <td> 0.000</td> <td>    0.399</td> <td>    0.718</td>\n",
              "</tr>\n",
              "<tr>\n",
              "  <th>job_self-employed</th>   <td>   -0.3097</td> <td>    0.111</td> <td>   -2.780</td> <td> 0.005</td> <td>   -0.528</td> <td>   -0.091</td>\n",
              "</tr>\n",
              "<tr>\n",
              "  <th>job_services</th>        <td>   -0.3013</td> <td>    0.086</td> <td>   -3.512</td> <td> 0.000</td> <td>   -0.470</td> <td>   -0.133</td>\n",
              "</tr>\n",
              "<tr>\n",
              "  <th>job_student</th>         <td>    0.5978</td> <td>    0.108</td> <td>    5.521</td> <td> 0.000</td> <td>    0.386</td> <td>    0.810</td>\n",
              "</tr>\n",
              "<tr>\n",
              "  <th>job_technician</th>      <td>   -0.1439</td> <td>    0.060</td> <td>   -2.379</td> <td> 0.017</td> <td>   -0.263</td> <td>   -0.025</td>\n",
              "</tr>\n",
              "<tr>\n",
              "  <th>job_unknown</th>         <td>   -0.1714</td> <td>    0.245</td> <td>   -0.700</td> <td> 0.484</td> <td>   -0.651</td> <td>    0.308</td>\n",
              "</tr>\n",
              "<tr>\n",
              "  <th>marital_single</th>      <td>    0.2701</td> <td>    0.045</td> <td>    6.006</td> <td> 0.000</td> <td>    0.182</td> <td>    0.358</td>\n",
              "</tr>\n",
              "<tr>\n",
              "  <th>education_secondary</th> <td>    0.2381</td> <td>    0.072</td> <td>    3.307</td> <td> 0.001</td> <td>    0.097</td> <td>    0.379</td>\n",
              "</tr>\n",
              "<tr>\n",
              "  <th>education_tertiary</th>  <td>    0.4611</td> <td>    0.079</td> <td>    5.820</td> <td> 0.000</td> <td>    0.306</td> <td>    0.616</td>\n",
              "</tr>\n",
              "<tr>\n",
              "  <th>education_unknown</th>   <td>    0.2899</td> <td>    0.114</td> <td>    2.532</td> <td> 0.011</td> <td>    0.066</td> <td>    0.514</td>\n",
              "</tr>\n",
              "</table>"
            ],
            "text/plain": [
              "<class 'statsmodels.iolib.summary.Summary'>\n",
              "\"\"\"\n",
              "                 Generalized Linear Model Regression Results                  \n",
              "==============================================================================\n",
              "Dep. Variable:                 output   No. Observations:                31647\n",
              "Model:                            GLM   Df Residuals:                    31626\n",
              "Model Family:                Binomial   Df Model:                           20\n",
              "Link Function:                  logit   Scale:                          1.0000\n",
              "Method:                          IRLS   Log-Likelihood:                -8595.6\n",
              "Date:                Sat, 03 Jul 2021   Deviance:                       17191.\n",
              "Time:                        12:57:48   Pearson chi2:                 3.59e+08\n",
              "No. Iterations:                     7                                         \n",
              "Covariance Type:            nonrobust                                         \n",
              "=======================================================================================\n",
              "                          coef    std err          z      P>|z|      [0.025      0.975]\n",
              "---------------------------------------------------------------------------------------\n",
              "const                  -2.1066      0.080    -26.448      0.000      -2.263      -1.950\n",
              "default                -0.3451      0.191     -1.811      0.070      -0.719       0.028\n",
              "housing                -1.0863      0.044    -24.559      0.000      -1.173      -1.000\n",
              "loan                   -0.6631      0.068     -9.793      0.000      -0.796      -0.530\n",
              "duration                1.0004      0.018     54.304      0.000       0.964       1.037\n",
              "campaign               -0.4220      0.037    -11.353      0.000      -0.495      -0.349\n",
              "pdays                   0.2866      0.020     14.511      0.000       0.248       0.325\n",
              "previous                0.1907      0.023      8.266      0.000       0.146       0.236\n",
              "job_blue-collar        -0.4230      0.070     -6.044      0.000      -0.560      -0.286\n",
              "job_entrepreneur       -0.3944      0.126     -3.124      0.002      -0.642      -0.147\n",
              "job_housemaid          -0.6732      0.156     -4.327      0.000      -0.978      -0.368\n",
              "job_retired             0.5586      0.081      6.859      0.000       0.399       0.718\n",
              "job_self-employed      -0.3097      0.111     -2.780      0.005      -0.528      -0.091\n",
              "job_services           -0.3013      0.086     -3.512      0.000      -0.470      -0.133\n",
              "job_student             0.5978      0.108      5.521      0.000       0.386       0.810\n",
              "job_technician         -0.1439      0.060     -2.379      0.017      -0.263      -0.025\n",
              "job_unknown            -0.1714      0.245     -0.700      0.484      -0.651       0.308\n",
              "marital_single          0.2701      0.045      6.006      0.000       0.182       0.358\n",
              "education_secondary     0.2381      0.072      3.307      0.001       0.097       0.379\n",
              "education_tertiary      0.4611      0.079      5.820      0.000       0.306       0.616\n",
              "education_unknown       0.2899      0.114      2.532      0.011       0.066       0.514\n",
              "=======================================================================================\n",
              "\"\"\""
            ]
          },
          "metadata": {
            "tags": []
          },
          "execution_count": 121
        }
      ]
    },
    {
      "cell_type": "code",
      "metadata": {
        "colab": {
          "base_uri": "https://localhost:8080/",
          "height": 669
        },
        "id": "SwJNuNUIN9Hj",
        "outputId": "e7718f3e-b124-40fc-f856-15fca93af944"
      },
      "source": [
        "def print_vif(df, cols):\n",
        "    from statsmodels.stats.outliers_influence import variance_inflation_factor\n",
        "    vif = pd.DataFrame()\n",
        "    vif['Features'] = cols\n",
        "    vif['VIF'] = [variance_inflation_factor(df[cols].values, i) for i in range(df[cols].shape[1])]\n",
        "    vif['VIF'] = round(vif['VIF'], 2)\n",
        "    vif = vif.sort_values(by = \"VIF\", ascending = False)\n",
        "    return vif\n",
        "print_vif(X_train, cols)"
      ],
      "execution_count": 122,
      "outputs": [
        {
          "output_type": "execute_result",
          "data": {
            "text/html": [
              "<div>\n",
              "<style scoped>\n",
              "    .dataframe tbody tr th:only-of-type {\n",
              "        vertical-align: middle;\n",
              "    }\n",
              "\n",
              "    .dataframe tbody tr th {\n",
              "        vertical-align: top;\n",
              "    }\n",
              "\n",
              "    .dataframe thead th {\n",
              "        text-align: right;\n",
              "    }\n",
              "</style>\n",
              "<table border=\"1\" class=\"dataframe\">\n",
              "  <thead>\n",
              "    <tr style=\"text-align: right;\">\n",
              "      <th></th>\n",
              "      <th>Features</th>\n",
              "      <th>VIF</th>\n",
              "    </tr>\n",
              "  </thead>\n",
              "  <tbody>\n",
              "    <tr>\n",
              "      <th>17</th>\n",
              "      <td>education_secondary</td>\n",
              "      <td>2.57</td>\n",
              "    </tr>\n",
              "    <tr>\n",
              "      <th>1</th>\n",
              "      <td>housing</td>\n",
              "      <td>2.25</td>\n",
              "    </tr>\n",
              "    <tr>\n",
              "      <th>18</th>\n",
              "      <td>education_tertiary</td>\n",
              "      <td>1.60</td>\n",
              "    </tr>\n",
              "    <tr>\n",
              "      <th>16</th>\n",
              "      <td>marital_single</td>\n",
              "      <td>1.52</td>\n",
              "    </tr>\n",
              "    <tr>\n",
              "      <th>7</th>\n",
              "      <td>job_blue-collar</td>\n",
              "      <td>1.51</td>\n",
              "    </tr>\n",
              "    <tr>\n",
              "      <th>14</th>\n",
              "      <td>job_technician</td>\n",
              "      <td>1.45</td>\n",
              "    </tr>\n",
              "    <tr>\n",
              "      <th>12</th>\n",
              "      <td>job_services</td>\n",
              "      <td>1.31</td>\n",
              "    </tr>\n",
              "    <tr>\n",
              "      <th>5</th>\n",
              "      <td>pdays</td>\n",
              "      <td>1.26</td>\n",
              "    </tr>\n",
              "    <tr>\n",
              "      <th>6</th>\n",
              "      <td>previous</td>\n",
              "      <td>1.23</td>\n",
              "    </tr>\n",
              "    <tr>\n",
              "      <th>2</th>\n",
              "      <td>loan</td>\n",
              "      <td>1.21</td>\n",
              "    </tr>\n",
              "    <tr>\n",
              "      <th>19</th>\n",
              "      <td>education_unknown</td>\n",
              "      <td>1.14</td>\n",
              "    </tr>\n",
              "    <tr>\n",
              "      <th>13</th>\n",
              "      <td>job_student</td>\n",
              "      <td>1.12</td>\n",
              "    </tr>\n",
              "    <tr>\n",
              "      <th>8</th>\n",
              "      <td>job_entrepreneur</td>\n",
              "      <td>1.08</td>\n",
              "    </tr>\n",
              "    <tr>\n",
              "      <th>11</th>\n",
              "      <td>job_self-employed</td>\n",
              "      <td>1.07</td>\n",
              "    </tr>\n",
              "    <tr>\n",
              "      <th>10</th>\n",
              "      <td>job_retired</td>\n",
              "      <td>1.06</td>\n",
              "    </tr>\n",
              "    <tr>\n",
              "      <th>15</th>\n",
              "      <td>job_unknown</td>\n",
              "      <td>1.04</td>\n",
              "    </tr>\n",
              "    <tr>\n",
              "      <th>0</th>\n",
              "      <td>default</td>\n",
              "      <td>1.03</td>\n",
              "    </tr>\n",
              "    <tr>\n",
              "      <th>9</th>\n",
              "      <td>job_housemaid</td>\n",
              "      <td>1.02</td>\n",
              "    </tr>\n",
              "    <tr>\n",
              "      <th>4</th>\n",
              "      <td>campaign</td>\n",
              "      <td>1.02</td>\n",
              "    </tr>\n",
              "    <tr>\n",
              "      <th>3</th>\n",
              "      <td>duration</td>\n",
              "      <td>1.01</td>\n",
              "    </tr>\n",
              "  </tbody>\n",
              "</table>\n",
              "</div>"
            ],
            "text/plain": [
              "               Features   VIF\n",
              "17  education_secondary  2.57\n",
              "1               housing  2.25\n",
              "18   education_tertiary  1.60\n",
              "16       marital_single  1.52\n",
              "7       job_blue-collar  1.51\n",
              "14       job_technician  1.45\n",
              "12         job_services  1.31\n",
              "5                 pdays  1.26\n",
              "6              previous  1.23\n",
              "2                  loan  1.21\n",
              "19    education_unknown  1.14\n",
              "13          job_student  1.12\n",
              "8      job_entrepreneur  1.08\n",
              "11    job_self-employed  1.07\n",
              "10          job_retired  1.06\n",
              "15          job_unknown  1.04\n",
              "0               default  1.03\n",
              "9         job_housemaid  1.02\n",
              "4              campaign  1.02\n",
              "3              duration  1.01"
            ]
          },
          "metadata": {
            "tags": []
          },
          "execution_count": 122
        }
      ]
    },
    {
      "cell_type": "code",
      "metadata": {
        "id": "18bDo7fBOAvi"
      },
      "source": [
        "#dropping column with high p-value\n",
        "\n",
        "cols = cols.drop('job_unknown',1)"
      ],
      "execution_count": 123,
      "outputs": []
    },
    {
      "cell_type": "code",
      "metadata": {
        "colab": {
          "base_uri": "https://localhost:8080/",
          "height": 668
        },
        "id": "Gvww3P-7OoHC",
        "outputId": "0a5549da-f5fe-4a2e-da82-d69eb660d613"
      },
      "source": [
        "#BUILDING MODEL #2\n",
        "\n",
        "X_train_sm = sm.add_constant(X_train[cols])\n",
        "logm2 = sm.GLM(y_train,X_train_sm, family = sm.families.Binomial()).fit()\n",
        "logm2.summary()\n"
      ],
      "execution_count": 124,
      "outputs": [
        {
          "output_type": "execute_result",
          "data": {
            "text/html": [
              "<table class=\"simpletable\">\n",
              "<caption>Generalized Linear Model Regression Results</caption>\n",
              "<tr>\n",
              "  <th>Dep. Variable:</th>        <td>output</td>      <th>  No. Observations:  </th>  <td> 31647</td> \n",
              "</tr>\n",
              "<tr>\n",
              "  <th>Model:</th>                  <td>GLM</td>       <th>  Df Residuals:      </th>  <td> 31627</td> \n",
              "</tr>\n",
              "<tr>\n",
              "  <th>Model Family:</th>        <td>Binomial</td>     <th>  Df Model:          </th>  <td>    19</td> \n",
              "</tr>\n",
              "<tr>\n",
              "  <th>Link Function:</th>         <td>logit</td>      <th>  Scale:             </th> <td>  1.0000</td>\n",
              "</tr>\n",
              "<tr>\n",
              "  <th>Method:</th>                <td>IRLS</td>       <th>  Log-Likelihood:    </th> <td> -8595.9</td>\n",
              "</tr>\n",
              "<tr>\n",
              "  <th>Date:</th>            <td>Sat, 03 Jul 2021</td> <th>  Deviance:          </th> <td>  17192.</td>\n",
              "</tr>\n",
              "<tr>\n",
              "  <th>Time:</th>                <td>12:57:50</td>     <th>  Pearson chi2:      </th> <td>3.64e+08</td>\n",
              "</tr>\n",
              "<tr>\n",
              "  <th>No. Iterations:</th>          <td>7</td>        <th>                     </th>     <td> </td>   \n",
              "</tr>\n",
              "<tr>\n",
              "  <th>Covariance Type:</th>     <td>nonrobust</td>    <th>                     </th>     <td> </td>   \n",
              "</tr>\n",
              "</table>\n",
              "<table class=\"simpletable\">\n",
              "<tr>\n",
              "           <td></td>              <th>coef</th>     <th>std err</th>      <th>z</th>      <th>P>|z|</th>  <th>[0.025</th>    <th>0.975]</th>  \n",
              "</tr>\n",
              "<tr>\n",
              "  <th>const</th>               <td>   -2.1128</td> <td>    0.079</td> <td>  -26.692</td> <td> 0.000</td> <td>   -2.268</td> <td>   -1.958</td>\n",
              "</tr>\n",
              "<tr>\n",
              "  <th>default</th>             <td>   -0.3445</td> <td>    0.191</td> <td>   -1.808</td> <td> 0.071</td> <td>   -0.718</td> <td>    0.029</td>\n",
              "</tr>\n",
              "<tr>\n",
              "  <th>housing</th>             <td>   -1.0847</td> <td>    0.044</td> <td>  -24.551</td> <td> 0.000</td> <td>   -1.171</td> <td>   -0.998</td>\n",
              "</tr>\n",
              "<tr>\n",
              "  <th>loan</th>                <td>   -0.6624</td> <td>    0.068</td> <td>   -9.783</td> <td> 0.000</td> <td>   -0.795</td> <td>   -0.530</td>\n",
              "</tr>\n",
              "<tr>\n",
              "  <th>duration</th>            <td>    1.0005</td> <td>    0.018</td> <td>   54.308</td> <td> 0.000</td> <td>    0.964</td> <td>    1.037</td>\n",
              "</tr>\n",
              "<tr>\n",
              "  <th>campaign</th>            <td>   -0.4223</td> <td>    0.037</td> <td>  -11.366</td> <td> 0.000</td> <td>   -0.495</td> <td>   -0.350</td>\n",
              "</tr>\n",
              "<tr>\n",
              "  <th>pdays</th>               <td>    0.2867</td> <td>    0.020</td> <td>   14.512</td> <td> 0.000</td> <td>    0.248</td> <td>    0.325</td>\n",
              "</tr>\n",
              "<tr>\n",
              "  <th>previous</th>            <td>    0.1909</td> <td>    0.023</td> <td>    8.273</td> <td> 0.000</td> <td>    0.146</td> <td>    0.236</td>\n",
              "</tr>\n",
              "<tr>\n",
              "  <th>job_blue-collar</th>     <td>   -0.4185</td> <td>    0.070</td> <td>   -6.003</td> <td> 0.000</td> <td>   -0.555</td> <td>   -0.282</td>\n",
              "</tr>\n",
              "<tr>\n",
              "  <th>job_entrepreneur</th>    <td>   -0.3908</td> <td>    0.126</td> <td>   -3.098</td> <td> 0.002</td> <td>   -0.638</td> <td>   -0.144</td>\n",
              "</tr>\n",
              "<tr>\n",
              "  <th>job_housemaid</th>       <td>   -0.6681</td> <td>    0.155</td> <td>   -4.299</td> <td> 0.000</td> <td>   -0.973</td> <td>   -0.364</td>\n",
              "</tr>\n",
              "<tr>\n",
              "  <th>job_retired</th>         <td>    0.5636</td> <td>    0.081</td> <td>    6.946</td> <td> 0.000</td> <td>    0.405</td> <td>    0.723</td>\n",
              "</tr>\n",
              "<tr>\n",
              "  <th>job_self-employed</th>   <td>   -0.3065</td> <td>    0.111</td> <td>   -2.754</td> <td> 0.006</td> <td>   -0.525</td> <td>   -0.088</td>\n",
              "</tr>\n",
              "<tr>\n",
              "  <th>job_services</th>        <td>   -0.2975</td> <td>    0.086</td> <td>   -3.473</td> <td> 0.001</td> <td>   -0.465</td> <td>   -0.130</td>\n",
              "</tr>\n",
              "<tr>\n",
              "  <th>job_student</th>         <td>    0.6034</td> <td>    0.108</td> <td>    5.588</td> <td> 0.000</td> <td>    0.392</td> <td>    0.815</td>\n",
              "</tr>\n",
              "<tr>\n",
              "  <th>job_technician</th>      <td>   -0.1404</td> <td>    0.060</td> <td>   -2.329</td> <td> 0.020</td> <td>   -0.259</td> <td>   -0.022</td>\n",
              "</tr>\n",
              "<tr>\n",
              "  <th>marital_single</th>      <td>    0.2704</td> <td>    0.045</td> <td>    6.013</td> <td> 0.000</td> <td>    0.182</td> <td>    0.359</td>\n",
              "</tr>\n",
              "<tr>\n",
              "  <th>education_secondary</th> <td>    0.2398</td> <td>    0.072</td> <td>    3.333</td> <td> 0.001</td> <td>    0.099</td> <td>    0.381</td>\n",
              "</tr>\n",
              "<tr>\n",
              "  <th>education_tertiary</th>  <td>    0.4645</td> <td>    0.079</td> <td>    5.876</td> <td> 0.000</td> <td>    0.310</td> <td>    0.619</td>\n",
              "</tr>\n",
              "<tr>\n",
              "  <th>education_unknown</th>   <td>    0.2795</td> <td>    0.114</td> <td>    2.461</td> <td> 0.014</td> <td>    0.057</td> <td>    0.502</td>\n",
              "</tr>\n",
              "</table>"
            ],
            "text/plain": [
              "<class 'statsmodels.iolib.summary.Summary'>\n",
              "\"\"\"\n",
              "                 Generalized Linear Model Regression Results                  \n",
              "==============================================================================\n",
              "Dep. Variable:                 output   No. Observations:                31647\n",
              "Model:                            GLM   Df Residuals:                    31627\n",
              "Model Family:                Binomial   Df Model:                           19\n",
              "Link Function:                  logit   Scale:                          1.0000\n",
              "Method:                          IRLS   Log-Likelihood:                -8595.9\n",
              "Date:                Sat, 03 Jul 2021   Deviance:                       17192.\n",
              "Time:                        12:57:50   Pearson chi2:                 3.64e+08\n",
              "No. Iterations:                     7                                         \n",
              "Covariance Type:            nonrobust                                         \n",
              "=======================================================================================\n",
              "                          coef    std err          z      P>|z|      [0.025      0.975]\n",
              "---------------------------------------------------------------------------------------\n",
              "const                  -2.1128      0.079    -26.692      0.000      -2.268      -1.958\n",
              "default                -0.3445      0.191     -1.808      0.071      -0.718       0.029\n",
              "housing                -1.0847      0.044    -24.551      0.000      -1.171      -0.998\n",
              "loan                   -0.6624      0.068     -9.783      0.000      -0.795      -0.530\n",
              "duration                1.0005      0.018     54.308      0.000       0.964       1.037\n",
              "campaign               -0.4223      0.037    -11.366      0.000      -0.495      -0.350\n",
              "pdays                   0.2867      0.020     14.512      0.000       0.248       0.325\n",
              "previous                0.1909      0.023      8.273      0.000       0.146       0.236\n",
              "job_blue-collar        -0.4185      0.070     -6.003      0.000      -0.555      -0.282\n",
              "job_entrepreneur       -0.3908      0.126     -3.098      0.002      -0.638      -0.144\n",
              "job_housemaid          -0.6681      0.155     -4.299      0.000      -0.973      -0.364\n",
              "job_retired             0.5636      0.081      6.946      0.000       0.405       0.723\n",
              "job_self-employed      -0.3065      0.111     -2.754      0.006      -0.525      -0.088\n",
              "job_services           -0.2975      0.086     -3.473      0.001      -0.465      -0.130\n",
              "job_student             0.6034      0.108      5.588      0.000       0.392       0.815\n",
              "job_technician         -0.1404      0.060     -2.329      0.020      -0.259      -0.022\n",
              "marital_single          0.2704      0.045      6.013      0.000       0.182       0.359\n",
              "education_secondary     0.2398      0.072      3.333      0.001       0.099       0.381\n",
              "education_tertiary      0.4645      0.079      5.876      0.000       0.310       0.619\n",
              "education_unknown       0.2795      0.114      2.461      0.014       0.057       0.502\n",
              "=======================================================================================\n",
              "\"\"\""
            ]
          },
          "metadata": {
            "tags": []
          },
          "execution_count": 124
        }
      ]
    },
    {
      "cell_type": "code",
      "metadata": {
        "colab": {
          "base_uri": "https://localhost:8080/",
          "height": 638
        },
        "id": "2lkSaqOROuCh",
        "outputId": "134a7662-2833-4f13-84c7-b3922a15eab9"
      },
      "source": [
        "# checking VIF value\n",
        "print_vif(X_train, cols)"
      ],
      "execution_count": 125,
      "outputs": [
        {
          "output_type": "execute_result",
          "data": {
            "text/html": [
              "<div>\n",
              "<style scoped>\n",
              "    .dataframe tbody tr th:only-of-type {\n",
              "        vertical-align: middle;\n",
              "    }\n",
              "\n",
              "    .dataframe tbody tr th {\n",
              "        vertical-align: top;\n",
              "    }\n",
              "\n",
              "    .dataframe thead th {\n",
              "        text-align: right;\n",
              "    }\n",
              "</style>\n",
              "<table border=\"1\" class=\"dataframe\">\n",
              "  <thead>\n",
              "    <tr style=\"text-align: right;\">\n",
              "      <th></th>\n",
              "      <th>Features</th>\n",
              "      <th>VIF</th>\n",
              "    </tr>\n",
              "  </thead>\n",
              "  <tbody>\n",
              "    <tr>\n",
              "      <th>16</th>\n",
              "      <td>education_secondary</td>\n",
              "      <td>2.55</td>\n",
              "    </tr>\n",
              "    <tr>\n",
              "      <th>1</th>\n",
              "      <td>housing</td>\n",
              "      <td>2.25</td>\n",
              "    </tr>\n",
              "    <tr>\n",
              "      <th>17</th>\n",
              "      <td>education_tertiary</td>\n",
              "      <td>1.60</td>\n",
              "    </tr>\n",
              "    <tr>\n",
              "      <th>15</th>\n",
              "      <td>marital_single</td>\n",
              "      <td>1.52</td>\n",
              "    </tr>\n",
              "    <tr>\n",
              "      <th>7</th>\n",
              "      <td>job_blue-collar</td>\n",
              "      <td>1.51</td>\n",
              "    </tr>\n",
              "    <tr>\n",
              "      <th>14</th>\n",
              "      <td>job_technician</td>\n",
              "      <td>1.45</td>\n",
              "    </tr>\n",
              "    <tr>\n",
              "      <th>12</th>\n",
              "      <td>job_services</td>\n",
              "      <td>1.31</td>\n",
              "    </tr>\n",
              "    <tr>\n",
              "      <th>5</th>\n",
              "      <td>pdays</td>\n",
              "      <td>1.26</td>\n",
              "    </tr>\n",
              "    <tr>\n",
              "      <th>6</th>\n",
              "      <td>previous</td>\n",
              "      <td>1.23</td>\n",
              "    </tr>\n",
              "    <tr>\n",
              "      <th>2</th>\n",
              "      <td>loan</td>\n",
              "      <td>1.21</td>\n",
              "    </tr>\n",
              "    <tr>\n",
              "      <th>13</th>\n",
              "      <td>job_student</td>\n",
              "      <td>1.11</td>\n",
              "    </tr>\n",
              "    <tr>\n",
              "      <th>18</th>\n",
              "      <td>education_unknown</td>\n",
              "      <td>1.10</td>\n",
              "    </tr>\n",
              "    <tr>\n",
              "      <th>8</th>\n",
              "      <td>job_entrepreneur</td>\n",
              "      <td>1.08</td>\n",
              "    </tr>\n",
              "    <tr>\n",
              "      <th>11</th>\n",
              "      <td>job_self-employed</td>\n",
              "      <td>1.07</td>\n",
              "    </tr>\n",
              "    <tr>\n",
              "      <th>10</th>\n",
              "      <td>job_retired</td>\n",
              "      <td>1.06</td>\n",
              "    </tr>\n",
              "    <tr>\n",
              "      <th>0</th>\n",
              "      <td>default</td>\n",
              "      <td>1.03</td>\n",
              "    </tr>\n",
              "    <tr>\n",
              "      <th>4</th>\n",
              "      <td>campaign</td>\n",
              "      <td>1.02</td>\n",
              "    </tr>\n",
              "    <tr>\n",
              "      <th>9</th>\n",
              "      <td>job_housemaid</td>\n",
              "      <td>1.02</td>\n",
              "    </tr>\n",
              "    <tr>\n",
              "      <th>3</th>\n",
              "      <td>duration</td>\n",
              "      <td>1.01</td>\n",
              "    </tr>\n",
              "  </tbody>\n",
              "</table>\n",
              "</div>"
            ],
            "text/plain": [
              "               Features   VIF\n",
              "16  education_secondary  2.55\n",
              "1               housing  2.25\n",
              "17   education_tertiary  1.60\n",
              "15       marital_single  1.52\n",
              "7       job_blue-collar  1.51\n",
              "14       job_technician  1.45\n",
              "12         job_services  1.31\n",
              "5                 pdays  1.26\n",
              "6              previous  1.23\n",
              "2                  loan  1.21\n",
              "13          job_student  1.11\n",
              "18    education_unknown  1.10\n",
              "8      job_entrepreneur  1.08\n",
              "11    job_self-employed  1.07\n",
              "10          job_retired  1.06\n",
              "0               default  1.03\n",
              "4              campaign  1.02\n",
              "9         job_housemaid  1.02\n",
              "3              duration  1.01"
            ]
          },
          "metadata": {
            "tags": []
          },
          "execution_count": 125
        }
      ]
    },
    {
      "cell_type": "code",
      "metadata": {
        "id": "BJn0ihaVO-rK"
      },
      "source": [
        "#dropping column with high p-value\n",
        "\n",
        "cols = cols.drop('default',1)"
      ],
      "execution_count": 126,
      "outputs": []
    },
    {
      "cell_type": "code",
      "metadata": {
        "colab": {
          "base_uri": "https://localhost:8080/",
          "height": 647
        },
        "id": "bE-BFIb5PIJK",
        "outputId": "9a6b96b8-bee3-463c-a50a-59b7ce1fa25b"
      },
      "source": [
        "#BUILDING MODEL #3\n",
        "\n",
        "X_train_sm = sm.add_constant(X_train[cols])\n",
        "logm3 = sm.GLM(y_train,X_train_sm, family = sm.families.Binomial()).fit()\n",
        "logm3.summary()"
      ],
      "execution_count": 127,
      "outputs": [
        {
          "output_type": "execute_result",
          "data": {
            "text/html": [
              "<table class=\"simpletable\">\n",
              "<caption>Generalized Linear Model Regression Results</caption>\n",
              "<tr>\n",
              "  <th>Dep. Variable:</th>        <td>output</td>      <th>  No. Observations:  </th>  <td> 31647</td> \n",
              "</tr>\n",
              "<tr>\n",
              "  <th>Model:</th>                  <td>GLM</td>       <th>  Df Residuals:      </th>  <td> 31628</td> \n",
              "</tr>\n",
              "<tr>\n",
              "  <th>Model Family:</th>        <td>Binomial</td>     <th>  Df Model:          </th>  <td>    18</td> \n",
              "</tr>\n",
              "<tr>\n",
              "  <th>Link Function:</th>         <td>logit</td>      <th>  Scale:             </th> <td>  1.0000</td>\n",
              "</tr>\n",
              "<tr>\n",
              "  <th>Method:</th>                <td>IRLS</td>       <th>  Log-Likelihood:    </th> <td> -8597.7</td>\n",
              "</tr>\n",
              "<tr>\n",
              "  <th>Date:</th>            <td>Sat, 03 Jul 2021</td> <th>  Deviance:          </th> <td>  17195.</td>\n",
              "</tr>\n",
              "<tr>\n",
              "  <th>Time:</th>                <td>12:57:51</td>     <th>  Pearson chi2:      </th> <td>3.85e+08</td>\n",
              "</tr>\n",
              "<tr>\n",
              "  <th>No. Iterations:</th>          <td>7</td>        <th>                     </th>     <td> </td>   \n",
              "</tr>\n",
              "<tr>\n",
              "  <th>Covariance Type:</th>     <td>nonrobust</td>    <th>                     </th>     <td> </td>   \n",
              "</tr>\n",
              "</table>\n",
              "<table class=\"simpletable\">\n",
              "<tr>\n",
              "           <td></td>              <th>coef</th>     <th>std err</th>      <th>z</th>      <th>P>|z|</th>  <th>[0.025</th>    <th>0.975]</th>  \n",
              "</tr>\n",
              "<tr>\n",
              "  <th>const</th>               <td>   -2.1157</td> <td>    0.079</td> <td>  -26.741</td> <td> 0.000</td> <td>   -2.271</td> <td>   -1.961</td>\n",
              "</tr>\n",
              "<tr>\n",
              "  <th>housing</th>             <td>   -1.0850</td> <td>    0.044</td> <td>  -24.561</td> <td> 0.000</td> <td>   -1.172</td> <td>   -0.998</td>\n",
              "</tr>\n",
              "<tr>\n",
              "  <th>loan</th>                <td>   -0.6710</td> <td>    0.068</td> <td>   -9.931</td> <td> 0.000</td> <td>   -0.803</td> <td>   -0.539</td>\n",
              "</tr>\n",
              "<tr>\n",
              "  <th>duration</th>            <td>    1.0007</td> <td>    0.018</td> <td>   54.325</td> <td> 0.000</td> <td>    0.965</td> <td>    1.037</td>\n",
              "</tr>\n",
              "<tr>\n",
              "  <th>campaign</th>            <td>   -0.4229</td> <td>    0.037</td> <td>  -11.381</td> <td> 0.000</td> <td>   -0.496</td> <td>   -0.350</td>\n",
              "</tr>\n",
              "<tr>\n",
              "  <th>pdays</th>               <td>    0.2875</td> <td>    0.020</td> <td>   14.560</td> <td> 0.000</td> <td>    0.249</td> <td>    0.326</td>\n",
              "</tr>\n",
              "<tr>\n",
              "  <th>previous</th>            <td>    0.1914</td> <td>    0.023</td> <td>    8.297</td> <td> 0.000</td> <td>    0.146</td> <td>    0.237</td>\n",
              "</tr>\n",
              "<tr>\n",
              "  <th>job_blue-collar</th>     <td>   -0.4198</td> <td>    0.070</td> <td>   -6.023</td> <td> 0.000</td> <td>   -0.556</td> <td>   -0.283</td>\n",
              "</tr>\n",
              "<tr>\n",
              "  <th>job_entrepreneur</th>    <td>   -0.3989</td> <td>    0.126</td> <td>   -3.163</td> <td> 0.002</td> <td>   -0.646</td> <td>   -0.152</td>\n",
              "</tr>\n",
              "<tr>\n",
              "  <th>job_housemaid</th>       <td>   -0.6685</td> <td>    0.155</td> <td>   -4.304</td> <td> 0.000</td> <td>   -0.973</td> <td>   -0.364</td>\n",
              "</tr>\n",
              "<tr>\n",
              "  <th>job_retired</th>         <td>    0.5651</td> <td>    0.081</td> <td>    6.966</td> <td> 0.000</td> <td>    0.406</td> <td>    0.724</td>\n",
              "</tr>\n",
              "<tr>\n",
              "  <th>job_self-employed</th>   <td>   -0.3087</td> <td>    0.111</td> <td>   -2.775</td> <td> 0.006</td> <td>   -0.527</td> <td>   -0.091</td>\n",
              "</tr>\n",
              "<tr>\n",
              "  <th>job_services</th>        <td>   -0.2959</td> <td>    0.086</td> <td>   -3.455</td> <td> 0.001</td> <td>   -0.464</td> <td>   -0.128</td>\n",
              "</tr>\n",
              "<tr>\n",
              "  <th>job_student</th>         <td>    0.6067</td> <td>    0.108</td> <td>    5.620</td> <td> 0.000</td> <td>    0.395</td> <td>    0.818</td>\n",
              "</tr>\n",
              "<tr>\n",
              "  <th>job_technician</th>      <td>   -0.1409</td> <td>    0.060</td> <td>   -2.336</td> <td> 0.019</td> <td>   -0.259</td> <td>   -0.023</td>\n",
              "</tr>\n",
              "<tr>\n",
              "  <th>marital_single</th>      <td>    0.2693</td> <td>    0.045</td> <td>    5.990</td> <td> 0.000</td> <td>    0.181</td> <td>    0.357</td>\n",
              "</tr>\n",
              "<tr>\n",
              "  <th>education_secondary</th> <td>    0.2386</td> <td>    0.072</td> <td>    3.318</td> <td> 0.001</td> <td>    0.098</td> <td>    0.380</td>\n",
              "</tr>\n",
              "<tr>\n",
              "  <th>education_tertiary</th>  <td>    0.4651</td> <td>    0.079</td> <td>    5.885</td> <td> 0.000</td> <td>    0.310</td> <td>    0.620</td>\n",
              "</tr>\n",
              "<tr>\n",
              "  <th>education_unknown</th>   <td>    0.2785</td> <td>    0.114</td> <td>    2.452</td> <td> 0.014</td> <td>    0.056</td> <td>    0.501</td>\n",
              "</tr>\n",
              "</table>"
            ],
            "text/plain": [
              "<class 'statsmodels.iolib.summary.Summary'>\n",
              "\"\"\"\n",
              "                 Generalized Linear Model Regression Results                  \n",
              "==============================================================================\n",
              "Dep. Variable:                 output   No. Observations:                31647\n",
              "Model:                            GLM   Df Residuals:                    31628\n",
              "Model Family:                Binomial   Df Model:                           18\n",
              "Link Function:                  logit   Scale:                          1.0000\n",
              "Method:                          IRLS   Log-Likelihood:                -8597.7\n",
              "Date:                Sat, 03 Jul 2021   Deviance:                       17195.\n",
              "Time:                        12:57:51   Pearson chi2:                 3.85e+08\n",
              "No. Iterations:                     7                                         \n",
              "Covariance Type:            nonrobust                                         \n",
              "=======================================================================================\n",
              "                          coef    std err          z      P>|z|      [0.025      0.975]\n",
              "---------------------------------------------------------------------------------------\n",
              "const                  -2.1157      0.079    -26.741      0.000      -2.271      -1.961\n",
              "housing                -1.0850      0.044    -24.561      0.000      -1.172      -0.998\n",
              "loan                   -0.6710      0.068     -9.931      0.000      -0.803      -0.539\n",
              "duration                1.0007      0.018     54.325      0.000       0.965       1.037\n",
              "campaign               -0.4229      0.037    -11.381      0.000      -0.496      -0.350\n",
              "pdays                   0.2875      0.020     14.560      0.000       0.249       0.326\n",
              "previous                0.1914      0.023      8.297      0.000       0.146       0.237\n",
              "job_blue-collar        -0.4198      0.070     -6.023      0.000      -0.556      -0.283\n",
              "job_entrepreneur       -0.3989      0.126     -3.163      0.002      -0.646      -0.152\n",
              "job_housemaid          -0.6685      0.155     -4.304      0.000      -0.973      -0.364\n",
              "job_retired             0.5651      0.081      6.966      0.000       0.406       0.724\n",
              "job_self-employed      -0.3087      0.111     -2.775      0.006      -0.527      -0.091\n",
              "job_services           -0.2959      0.086     -3.455      0.001      -0.464      -0.128\n",
              "job_student             0.6067      0.108      5.620      0.000       0.395       0.818\n",
              "job_technician         -0.1409      0.060     -2.336      0.019      -0.259      -0.023\n",
              "marital_single          0.2693      0.045      5.990      0.000       0.181       0.357\n",
              "education_secondary     0.2386      0.072      3.318      0.001       0.098       0.380\n",
              "education_tertiary      0.4651      0.079      5.885      0.000       0.310       0.620\n",
              "education_unknown       0.2785      0.114      2.452      0.014       0.056       0.501\n",
              "=======================================================================================\n",
              "\"\"\""
            ]
          },
          "metadata": {
            "tags": []
          },
          "execution_count": 127
        }
      ]
    },
    {
      "cell_type": "code",
      "metadata": {
        "id": "NnJzt9tcPKyK",
        "colab": {
          "base_uri": "https://localhost:8080/",
          "height": 607
        },
        "outputId": "bd59a817-4f0f-4c93-89eb-5563196c70f4"
      },
      "source": [
        "# Printing VIF\n",
        "print_vif(X_train, cols)"
      ],
      "execution_count": 128,
      "outputs": [
        {
          "output_type": "execute_result",
          "data": {
            "text/html": [
              "<div>\n",
              "<style scoped>\n",
              "    .dataframe tbody tr th:only-of-type {\n",
              "        vertical-align: middle;\n",
              "    }\n",
              "\n",
              "    .dataframe tbody tr th {\n",
              "        vertical-align: top;\n",
              "    }\n",
              "\n",
              "    .dataframe thead th {\n",
              "        text-align: right;\n",
              "    }\n",
              "</style>\n",
              "<table border=\"1\" class=\"dataframe\">\n",
              "  <thead>\n",
              "    <tr style=\"text-align: right;\">\n",
              "      <th></th>\n",
              "      <th>Features</th>\n",
              "      <th>VIF</th>\n",
              "    </tr>\n",
              "  </thead>\n",
              "  <tbody>\n",
              "    <tr>\n",
              "      <th>15</th>\n",
              "      <td>education_secondary</td>\n",
              "      <td>2.55</td>\n",
              "    </tr>\n",
              "    <tr>\n",
              "      <th>0</th>\n",
              "      <td>housing</td>\n",
              "      <td>2.25</td>\n",
              "    </tr>\n",
              "    <tr>\n",
              "      <th>16</th>\n",
              "      <td>education_tertiary</td>\n",
              "      <td>1.60</td>\n",
              "    </tr>\n",
              "    <tr>\n",
              "      <th>6</th>\n",
              "      <td>job_blue-collar</td>\n",
              "      <td>1.51</td>\n",
              "    </tr>\n",
              "    <tr>\n",
              "      <th>14</th>\n",
              "      <td>marital_single</td>\n",
              "      <td>1.51</td>\n",
              "    </tr>\n",
              "    <tr>\n",
              "      <th>13</th>\n",
              "      <td>job_technician</td>\n",
              "      <td>1.45</td>\n",
              "    </tr>\n",
              "    <tr>\n",
              "      <th>11</th>\n",
              "      <td>job_services</td>\n",
              "      <td>1.31</td>\n",
              "    </tr>\n",
              "    <tr>\n",
              "      <th>4</th>\n",
              "      <td>pdays</td>\n",
              "      <td>1.25</td>\n",
              "    </tr>\n",
              "    <tr>\n",
              "      <th>5</th>\n",
              "      <td>previous</td>\n",
              "      <td>1.23</td>\n",
              "    </tr>\n",
              "    <tr>\n",
              "      <th>1</th>\n",
              "      <td>loan</td>\n",
              "      <td>1.20</td>\n",
              "    </tr>\n",
              "    <tr>\n",
              "      <th>12</th>\n",
              "      <td>job_student</td>\n",
              "      <td>1.11</td>\n",
              "    </tr>\n",
              "    <tr>\n",
              "      <th>17</th>\n",
              "      <td>education_unknown</td>\n",
              "      <td>1.10</td>\n",
              "    </tr>\n",
              "    <tr>\n",
              "      <th>10</th>\n",
              "      <td>job_self-employed</td>\n",
              "      <td>1.07</td>\n",
              "    </tr>\n",
              "    <tr>\n",
              "      <th>7</th>\n",
              "      <td>job_entrepreneur</td>\n",
              "      <td>1.07</td>\n",
              "    </tr>\n",
              "    <tr>\n",
              "      <th>9</th>\n",
              "      <td>job_retired</td>\n",
              "      <td>1.06</td>\n",
              "    </tr>\n",
              "    <tr>\n",
              "      <th>8</th>\n",
              "      <td>job_housemaid</td>\n",
              "      <td>1.02</td>\n",
              "    </tr>\n",
              "    <tr>\n",
              "      <th>3</th>\n",
              "      <td>campaign</td>\n",
              "      <td>1.02</td>\n",
              "    </tr>\n",
              "    <tr>\n",
              "      <th>2</th>\n",
              "      <td>duration</td>\n",
              "      <td>1.01</td>\n",
              "    </tr>\n",
              "  </tbody>\n",
              "</table>\n",
              "</div>"
            ],
            "text/plain": [
              "               Features   VIF\n",
              "15  education_secondary  2.55\n",
              "0               housing  2.25\n",
              "16   education_tertiary  1.60\n",
              "6       job_blue-collar  1.51\n",
              "14       marital_single  1.51\n",
              "13       job_technician  1.45\n",
              "11         job_services  1.31\n",
              "4                 pdays  1.25\n",
              "5              previous  1.23\n",
              "1                  loan  1.20\n",
              "12          job_student  1.11\n",
              "17    education_unknown  1.10\n",
              "10    job_self-employed  1.07\n",
              "7      job_entrepreneur  1.07\n",
              "9           job_retired  1.06\n",
              "8         job_housemaid  1.02\n",
              "3              campaign  1.02\n",
              "2              duration  1.01"
            ]
          },
          "metadata": {
            "tags": []
          },
          "execution_count": 128
        }
      ]
    },
    {
      "cell_type": "markdown",
      "metadata": {
        "id": "x2EhkUgPQlIT"
      },
      "source": [
        "`We have achieved our desired model as it is suggested by the 'smaller' or less than'0.05' p values and vif lower than '5'.`"
      ]
    },
    {
      "cell_type": "code",
      "metadata": {
        "colab": {
          "base_uri": "https://localhost:8080/",
          "height": 692
        },
        "id": "qJ942jAgQoVB",
        "outputId": "dd3d432e-9e2b-452d-ff80-4807fd3bf371"
      },
      "source": [
        "# Let's see the correlation matrix \n",
        "plt.figure(figsize = (20,10))        # Size of the figure\n",
        "sns.heatmap(X_train[cols].corr(),annot = True)\n",
        "plt.show()"
      ],
      "execution_count": 129,
      "outputs": [
        {
          "output_type": "display_data",
          "data": {
            "image/png": "[encoded data removed]",
            "text/plain": [
              "<Figure size 1440x720 with 2 Axes>"
            ]
          },
          "metadata": {
            "tags": [],
            "needs_background": "light"
          }
        }
      ]
    },
    {
      "cell_type": "code",
      "metadata": {
        "colab": {
          "base_uri": "https://localhost:8080/"
        },
        "id": "kfZ-km1uQs1C",
        "outputId": "c3b70d66-171e-469d-ff2c-dd281797f047"
      },
      "source": [
        "# Getting the Predicted values on the train set\n",
        "y_train_pred = logm3.predict(X_train_sm)\n",
        "y_train_pred[:10]"
      ],
      "execution_count": 130,
      "outputs": [
        {
          "output_type": "execute_result",
          "data": {
            "text/plain": [
              "44481    0.136347\n",
              "25167    0.487267\n",
              "40209    0.099378\n",
              "30954    0.083180\n",
              "26429    0.008048\n",
              "9926     0.075558\n",
              "5350     0.021337\n",
              "27903    0.140808\n",
              "19437    0.017542\n",
              "21459    0.376723\n",
              "dtype: float64"
            ]
          },
          "metadata": {
            "tags": []
          },
          "execution_count": 130
        }
      ]
    },
    {
      "cell_type": "code",
      "metadata": {
        "id": "6b-nH9j1QzNq"
      },
      "source": [
        "# y_train_pred = y_train_pred.values.reshape(-1)\n",
        "# y_train_pred[:10]"
      ],
      "execution_count": 131,
      "outputs": []
    },
    {
      "cell_type": "code",
      "metadata": {
        "colab": {
          "base_uri": "https://localhost:8080/",
          "height": 204
        },
        "id": "RahHzJMKRHb7",
        "outputId": "0bc67f3a-a445-4908-abbd-21ef14d640f3"
      },
      "source": [
        "prediction_comparision = pd.DataFrame()\n",
        "prediction_comparision['Actual'] = y_train\n",
        "prediction_comparision['Predict_Prob'] = y_train_pred\n",
        "prediction_comparision.head()"
      ],
      "execution_count": 132,
      "outputs": [
        {
          "output_type": "execute_result",
          "data": {
            "text/html": [
              "<div>\n",
              "<style scoped>\n",
              "    .dataframe tbody tr th:only-of-type {\n",
              "        vertical-align: middle;\n",
              "    }\n",
              "\n",
              "    .dataframe tbody tr th {\n",
              "        vertical-align: top;\n",
              "    }\n",
              "\n",
              "    .dataframe thead th {\n",
              "        text-align: right;\n",
              "    }\n",
              "</style>\n",
              "<table border=\"1\" class=\"dataframe\">\n",
              "  <thead>\n",
              "    <tr style=\"text-align: right;\">\n",
              "      <th></th>\n",
              "      <th>Actual</th>\n",
              "      <th>Predict_Prob</th>\n",
              "    </tr>\n",
              "  </thead>\n",
              "  <tbody>\n",
              "    <tr>\n",
              "      <th>44481</th>\n",
              "      <td>0</td>\n",
              "      <td>0.136347</td>\n",
              "    </tr>\n",
              "    <tr>\n",
              "      <th>25167</th>\n",
              "      <td>0</td>\n",
              "      <td>0.487267</td>\n",
              "    </tr>\n",
              "    <tr>\n",
              "      <th>40209</th>\n",
              "      <td>0</td>\n",
              "      <td>0.099378</td>\n",
              "    </tr>\n",
              "    <tr>\n",
              "      <th>30954</th>\n",
              "      <td>0</td>\n",
              "      <td>0.083180</td>\n",
              "    </tr>\n",
              "    <tr>\n",
              "      <th>26429</th>\n",
              "      <td>0</td>\n",
              "      <td>0.008048</td>\n",
              "    </tr>\n",
              "  </tbody>\n",
              "</table>\n",
              "</div>"
            ],
            "text/plain": [
              "       Actual  Predict_Prob\n",
              "44481       0      0.136347\n",
              "25167       0      0.487267\n",
              "40209       0      0.099378\n",
              "30954       0      0.083180\n",
              "26429       0      0.008048"
            ]
          },
          "metadata": {
            "tags": []
          },
          "execution_count": 132
        }
      ]
    },
    {
      "cell_type": "code",
      "metadata": {
        "colab": {
          "base_uri": "https://localhost:8080/",
          "height": 514
        },
        "id": "iRO5lAe3RKHQ",
        "outputId": "c9691bc9-ecea-4efc-f9ea-87aa093da1e2"
      },
      "source": [
        "prediction_comparision['Predicted'] = prediction_comparision.Predict_Prob.map(lambda x: 1 if x > 0.5 else 0)\n",
        "\n",
        "# Let's see the head\n",
        "prediction_comparision.head(15)"
      ],
      "execution_count": 135,
      "outputs": [
        {
          "output_type": "execute_result",
          "data": {
            "text/html": [
              "<div>\n",
              "<style scoped>\n",
              "    .dataframe tbody tr th:only-of-type {\n",
              "        vertical-align: middle;\n",
              "    }\n",
              "\n",
              "    .dataframe tbody tr th {\n",
              "        vertical-align: top;\n",
              "    }\n",
              "\n",
              "    .dataframe thead th {\n",
              "        text-align: right;\n",
              "    }\n",
              "</style>\n",
              "<table border=\"1\" class=\"dataframe\">\n",
              "  <thead>\n",
              "    <tr style=\"text-align: right;\">\n",
              "      <th></th>\n",
              "      <th>Actual</th>\n",
              "      <th>Predict_Prob</th>\n",
              "      <th>Predicted</th>\n",
              "    </tr>\n",
              "  </thead>\n",
              "  <tbody>\n",
              "    <tr>\n",
              "      <th>44481</th>\n",
              "      <td>0</td>\n",
              "      <td>0.136347</td>\n",
              "      <td>0</td>\n",
              "    </tr>\n",
              "    <tr>\n",
              "      <th>25167</th>\n",
              "      <td>0</td>\n",
              "      <td>0.487267</td>\n",
              "      <td>0</td>\n",
              "    </tr>\n",
              "    <tr>\n",
              "      <th>40209</th>\n",
              "      <td>0</td>\n",
              "      <td>0.099378</td>\n",
              "      <td>0</td>\n",
              "    </tr>\n",
              "    <tr>\n",
              "      <th>30954</th>\n",
              "      <td>0</td>\n",
              "      <td>0.083180</td>\n",
              "      <td>0</td>\n",
              "    </tr>\n",
              "    <tr>\n",
              "      <th>26429</th>\n",
              "      <td>0</td>\n",
              "      <td>0.008048</td>\n",
              "      <td>0</td>\n",
              "    </tr>\n",
              "    <tr>\n",
              "      <th>9926</th>\n",
              "      <td>0</td>\n",
              "      <td>0.075558</td>\n",
              "      <td>0</td>\n",
              "    </tr>\n",
              "    <tr>\n",
              "      <th>5350</th>\n",
              "      <td>0</td>\n",
              "      <td>0.021337</td>\n",
              "      <td>0</td>\n",
              "    </tr>\n",
              "    <tr>\n",
              "      <th>27903</th>\n",
              "      <td>0</td>\n",
              "      <td>0.140808</td>\n",
              "      <td>0</td>\n",
              "    </tr>\n",
              "    <tr>\n",
              "      <th>19437</th>\n",
              "      <td>0</td>\n",
              "      <td>0.017542</td>\n",
              "      <td>0</td>\n",
              "    </tr>\n",
              "    <tr>\n",
              "      <th>21459</th>\n",
              "      <td>0</td>\n",
              "      <td>0.376723</td>\n",
              "      <td>0</td>\n",
              "    </tr>\n",
              "    <tr>\n",
              "      <th>33194</th>\n",
              "      <td>0</td>\n",
              "      <td>0.083951</td>\n",
              "      <td>0</td>\n",
              "    </tr>\n",
              "    <tr>\n",
              "      <th>27644</th>\n",
              "      <td>0</td>\n",
              "      <td>0.055809</td>\n",
              "      <td>0</td>\n",
              "    </tr>\n",
              "    <tr>\n",
              "      <th>12906</th>\n",
              "      <td>0</td>\n",
              "      <td>0.158567</td>\n",
              "      <td>0</td>\n",
              "    </tr>\n",
              "    <tr>\n",
              "      <th>34419</th>\n",
              "      <td>0</td>\n",
              "      <td>0.176488</td>\n",
              "      <td>0</td>\n",
              "    </tr>\n",
              "    <tr>\n",
              "      <th>34719</th>\n",
              "      <td>0</td>\n",
              "      <td>0.118229</td>\n",
              "      <td>0</td>\n",
              "    </tr>\n",
              "  </tbody>\n",
              "</table>\n",
              "</div>"
            ],
            "text/plain": [
              "       Actual  Predict_Prob  Predicted\n",
              "44481       0      0.136347          0\n",
              "25167       0      0.487267          0\n",
              "40209       0      0.099378          0\n",
              "30954       0      0.083180          0\n",
              "26429       0      0.008048          0\n",
              "9926        0      0.075558          0\n",
              "5350        0      0.021337          0\n",
              "27903       0      0.140808          0\n",
              "19437       0      0.017542          0\n",
              "21459       0      0.376723          0\n",
              "33194       0      0.083951          0\n",
              "27644       0      0.055809          0\n",
              "12906       0      0.158567          0\n",
              "34419       0      0.176488          0\n",
              "34719       0      0.118229          0"
            ]
          },
          "metadata": {
            "tags": []
          },
          "execution_count": 135
        }
      ]
    },
    {
      "cell_type": "code",
      "metadata": {
        "colab": {
          "base_uri": "https://localhost:8080/"
        },
        "id": "6w2sfRlHRg37",
        "outputId": "dc5ec241-af92-43b9-f476-5c7a0c92d09d"
      },
      "source": [
        "from sklearn import metrics\n",
        "\n",
        "# Confusion matrix \n",
        "confusion = metrics.confusion_matrix(prediction_comparision.Actual, prediction_comparision.Predicted)\n",
        "print(confusion)"
      ],
      "execution_count": 137,
      "outputs": [
        {
          "output_type": "stream",
          "text": [
            "[[27412   533]\n",
            " [ 2935   767]]\n"
          ],
          "name": "stdout"
        }
      ]
    },
    {
      "cell_type": "code",
      "metadata": {
        "colab": {
          "base_uri": "https://localhost:8080/"
        },
        "id": "mbdKEIreRrbb",
        "outputId": "74f2b813-4e86-4cc3-b060-112fecf8326f"
      },
      "source": [
        "# Let's check the overall accuracy.\n",
        "print(metrics.accuracy_score(prediction_comparision.Actual, prediction_comparision.Predicted))"
      ],
      "execution_count": 138,
      "outputs": [
        {
          "output_type": "stream",
          "text": [
            "0.8904161531898758\n"
          ],
          "name": "stdout"
        }
      ]
    },
    {
      "cell_type": "code",
      "metadata": {
        "id": "pSEZ_8TNRwBR"
      },
      "source": [
        "TP = confusion[1,1] # true positive \n",
        "TN = confusion[0,0] # true negatives\n",
        "FP = confusion[0,1] # false positives\n",
        "FN = confusion[1,0] # false negatives"
      ],
      "execution_count": 139,
      "outputs": []
    },
    {
      "cell_type": "code",
      "metadata": {
        "colab": {
          "base_uri": "https://localhost:8080/"
        },
        "id": "xM71jK75Rynz",
        "outputId": "f45828a9-660b-45cc-8fe0-a9faa005d3d8"
      },
      "source": [
        "# Let's check the sensitivity of our logistic regression model\n",
        "TP / float(TP+FN)"
      ],
      "execution_count": 140,
      "outputs": [
        {
          "output_type": "execute_result",
          "data": {
            "text/plain": [
              "0.2071853052404106"
            ]
          },
          "metadata": {
            "tags": []
          },
          "execution_count": 140
        }
      ]
    },
    {
      "cell_type": "markdown",
      "metadata": {
        "id": "1w4n1-2rSSp4"
      },
      "source": [
        "`It indicates that 20.71% of true positives or here in our case converted values  are predicted correctly by our model.which is very low . we need to modify the cutoff value .`"
      ]
    },
    {
      "cell_type": "code",
      "metadata": {
        "colab": {
          "base_uri": "https://localhost:8080/"
        },
        "id": "gCj17V-iR2QC",
        "outputId": "8fce934d-85ce-47a4-9b67-ebf442f2cf9f"
      },
      "source": [
        "# Let us calculate specificity\n",
        "TN / float(TN+FP)"
      ],
      "execution_count": 141,
      "outputs": [
        {
          "output_type": "execute_result",
          "data": {
            "text/plain": [
              "0.9809268205403471"
            ]
          },
          "metadata": {
            "tags": []
          },
          "execution_count": 141
        }
      ]
    },
    {
      "cell_type": "code",
      "metadata": {
        "colab": {
          "base_uri": "https://localhost:8080/"
        },
        "id": "yZPYUPa3SKgT",
        "outputId": "9f3b4ce2-53f9-4bfc-862e-d70573392d4b"
      },
      "source": [
        "# Calculate False Postive Rate - predicting conversion when customer does not have convert\n",
        "print(FP/ float(TN+FP))"
      ],
      "execution_count": 145,
      "outputs": [
        {
          "output_type": "stream",
          "text": [
            "0.01907317945965289\n"
          ],
          "name": "stdout"
        }
      ]
    },
    {
      "cell_type": "code",
      "metadata": {
        "colab": {
          "base_uri": "https://localhost:8080/"
        },
        "id": "Mc5slQfBVtCU",
        "outputId": "6961a575-5e94-4303-eb18-db16948ec196"
      },
      "source": [
        "# positive predictive value \n",
        "print (TP / float(TP+FP))"
      ],
      "execution_count": 146,
      "outputs": [
        {
          "output_type": "stream",
          "text": [
            "0.59\n"
          ],
          "name": "stdout"
        }
      ]
    },
    {
      "cell_type": "code",
      "metadata": {
        "colab": {
          "base_uri": "https://localhost:8080/"
        },
        "id": "7q9S_H9gVxdC",
        "outputId": "0e5f2293-3fe6-445d-83f0-9cfa9b87e3cd"
      },
      "source": [
        "# Negative predictive value\n",
        "print (TN / float(TN+ FN))"
      ],
      "execution_count": 147,
      "outputs": [
        {
          "output_type": "stream",
          "text": [
            "0.9032853329818433\n"
          ],
          "name": "stdout"
        }
      ]
    },
    {
      "cell_type": "code",
      "metadata": {
        "id": "ZkJeAA_6Vz5q"
      },
      "source": [
        "def draw_roc( actual, probs ):\n",
        "    fpr, tpr, thresholds = metrics.roc_curve( actual, probs,\n",
        "                                              drop_intermediate = False )\n",
        "    auc_score = metrics.roc_auc_score( actual, probs )\n",
        "    plt.figure(figsize=(5, 5))\n",
        "    plt.plot( fpr, tpr, label='ROC curve (area = %0.2f)' % auc_score )\n",
        "    plt.plot([0, 1], [0, 1], 'k--')\n",
        "    plt.xlim([0.0, 1.0])\n",
        "    plt.ylim([0.0, 1.05])\n",
        "    plt.xlabel('False Positive Rate or [1 - True Negative Rate]')\n",
        "    plt.ylabel('True Positive Rate')\n",
        "    plt.title('Receiver operating characteristic example')\n",
        "    plt.legend(loc=\"lower right\")\n",
        "    plt.show()\n",
        "\n",
        "    return None"
      ],
      "execution_count": 149,
      "outputs": []
    },
    {
      "cell_type": "code",
      "metadata": {
        "colab": {
          "base_uri": "https://localhost:8080/",
          "height": 350
        },
        "id": "-BdTSoGEV2oJ",
        "outputId": "95fe28c1-0a75-4b0d-f5e2-1e31a7820c07"
      },
      "source": [
        "fpr, tpr, thresholds = metrics.roc_curve(prediction_comparision.Actual, prediction_comparision.Predict_Prob, drop_intermediate = False )\n",
        "draw_roc(prediction_comparision.Actual, prediction_comparision.Predict_Prob)\n"
      ],
      "execution_count": 152,
      "outputs": [
        {
          "output_type": "display_data",
          "data": {
            "image/png": "[encoded data removed]",
            "text/plain": [
              "<Figure size 360x360 with 1 Axes>"
            ]
          },
          "metadata": {
            "tags": [],
            "needs_background": "light"
          }
        }
      ]
    },
    {
      "cell_type": "code",
      "metadata": {
        "colab": {
          "base_uri": "https://localhost:8080/",
          "height": 359
        },
        "id": "BWJGEmh3WIdS",
        "outputId": "3b2f5a36-1fa8-430d-d634-9e4dba23d0c6"
      },
      "source": [
        "# Let's create columns with different probability cutoffs \n",
        "numbers = [float(x)/10 for x in range(10)]\n",
        "for i in numbers:\n",
        "    prediction_comparision[i]= prediction_comparision.Predict_Prob.map(lambda x: 1 if x > i else 0)\n",
        "prediction_comparision.head(10)"
      ],
      "execution_count": 154,
      "outputs": [
        {
          "output_type": "execute_result",
          "data": {
            "text/html": [
              "<div>\n",
              "<style scoped>\n",
              "    .dataframe tbody tr th:only-of-type {\n",
              "        vertical-align: middle;\n",
              "    }\n",
              "\n",
              "    .dataframe tbody tr th {\n",
              "        vertical-align: top;\n",
              "    }\n",
              "\n",
              "    .dataframe thead th {\n",
              "        text-align: right;\n",
              "    }\n",
              "</style>\n",
              "<table border=\"1\" class=\"dataframe\">\n",
              "  <thead>\n",
              "    <tr style=\"text-align: right;\">\n",
              "      <th></th>\n",
              "      <th>Actual</th>\n",
              "      <th>Predict_Prob</th>\n",
              "      <th>Predicted</th>\n",
              "      <th>0.0</th>\n",
              "      <th>0.1</th>\n",
              "      <th>0.2</th>\n",
              "      <th>0.3</th>\n",
              "      <th>0.4</th>\n",
              "      <th>0.5</th>\n",
              "      <th>0.6</th>\n",
              "      <th>0.7</th>\n",
              "      <th>0.8</th>\n",
              "      <th>0.9</th>\n",
              "    </tr>\n",
              "  </thead>\n",
              "  <tbody>\n",
              "    <tr>\n",
              "      <th>44481</th>\n",
              "      <td>0</td>\n",
              "      <td>0.136347</td>\n",
              "      <td>0</td>\n",
              "      <td>1</td>\n",
              "      <td>1</td>\n",
              "      <td>0</td>\n",
              "      <td>0</td>\n",
              "      <td>0</td>\n",
              "      <td>0</td>\n",
              "      <td>0</td>\n",
              "      <td>0</td>\n",
              "      <td>0</td>\n",
              "      <td>0</td>\n",
              "    </tr>\n",
              "    <tr>\n",
              "      <th>25167</th>\n",
              "      <td>0</td>\n",
              "      <td>0.487267</td>\n",
              "      <td>0</td>\n",
              "      <td>1</td>\n",
              "      <td>1</td>\n",
              "      <td>1</td>\n",
              "      <td>1</td>\n",
              "      <td>1</td>\n",
              "      <td>0</td>\n",
              "      <td>0</td>\n",
              "      <td>0</td>\n",
              "      <td>0</td>\n",
              "      <td>0</td>\n",
              "    </tr>\n",
              "    <tr>\n",
              "      <th>40209</th>\n",
              "      <td>0</td>\n",
              "      <td>0.099378</td>\n",
              "      <td>0</td>\n",
              "      <td>1</td>\n",
              "      <td>0</td>\n",
              "      <td>0</td>\n",
              "      <td>0</td>\n",
              "      <td>0</td>\n",
              "      <td>0</td>\n",
              "      <td>0</td>\n",
              "      <td>0</td>\n",
              "      <td>0</td>\n",
              "      <td>0</td>\n",
              "    </tr>\n",
              "    <tr>\n",
              "      <th>30954</th>\n",
              "      <td>0</td>\n",
              "      <td>0.083180</td>\n",
              "      <td>0</td>\n",
              "      <td>1</td>\n",
              "      <td>0</td>\n",
              "      <td>0</td>\n",
              "      <td>0</td>\n",
              "      <td>0</td>\n",
              "      <td>0</td>\n",
              "      <td>0</td>\n",
              "      <td>0</td>\n",
              "      <td>0</td>\n",
              "      <td>0</td>\n",
              "    </tr>\n",
              "    <tr>\n",
              "      <th>26429</th>\n",
              "      <td>0</td>\n",
              "      <td>0.008048</td>\n",
              "      <td>0</td>\n",
              "      <td>1</td>\n",
              "      <td>0</td>\n",
              "      <td>0</td>\n",
              "      <td>0</td>\n",
              "      <td>0</td>\n",
              "      <td>0</td>\n",
              "      <td>0</td>\n",
              "      <td>0</td>\n",
              "      <td>0</td>\n",
              "      <td>0</td>\n",
              "    </tr>\n",
              "    <tr>\n",
              "      <th>9926</th>\n",
              "      <td>0</td>\n",
              "      <td>0.075558</td>\n",
              "      <td>0</td>\n",
              "      <td>1</td>\n",
              "      <td>0</td>\n",
              "      <td>0</td>\n",
              "      <td>0</td>\n",
              "      <td>0</td>\n",
              "      <td>0</td>\n",
              "      <td>0</td>\n",
              "      <td>0</td>\n",
              "      <td>0</td>\n",
              "      <td>0</td>\n",
              "    </tr>\n",
              "    <tr>\n",
              "      <th>5350</th>\n",
              "      <td>0</td>\n",
              "      <td>0.021337</td>\n",
              "      <td>0</td>\n",
              "      <td>1</td>\n",
              "      <td>0</td>\n",
              "      <td>0</td>\n",
              "      <td>0</td>\n",
              "      <td>0</td>\n",
              "      <td>0</td>\n",
              "      <td>0</td>\n",
              "      <td>0</td>\n",
              "      <td>0</td>\n",
              "      <td>0</td>\n",
              "    </tr>\n",
              "    <tr>\n",
              "      <th>27903</th>\n",
              "      <td>0</td>\n",
              "      <td>0.140808</td>\n",
              "      <td>0</td>\n",
              "      <td>1</td>\n",
              "      <td>1</td>\n",
              "      <td>0</td>\n",
              "      <td>0</td>\n",
              "      <td>0</td>\n",
              "      <td>0</td>\n",
              "      <td>0</td>\n",
              "      <td>0</td>\n",
              "      <td>0</td>\n",
              "      <td>0</td>\n",
              "    </tr>\n",
              "    <tr>\n",
              "      <th>19437</th>\n",
              "      <td>0</td>\n",
              "      <td>0.017542</td>\n",
              "      <td>0</td>\n",
              "      <td>1</td>\n",
              "      <td>0</td>\n",
              "      <td>0</td>\n",
              "      <td>0</td>\n",
              "      <td>0</td>\n",
              "      <td>0</td>\n",
              "      <td>0</td>\n",
              "      <td>0</td>\n",
              "      <td>0</td>\n",
              "      <td>0</td>\n",
              "    </tr>\n",
              "    <tr>\n",
              "      <th>21459</th>\n",
              "      <td>0</td>\n",
              "      <td>0.376723</td>\n",
              "      <td>0</td>\n",
              "      <td>1</td>\n",
              "      <td>1</td>\n",
              "      <td>1</td>\n",
              "      <td>1</td>\n",
              "      <td>0</td>\n",
              "      <td>0</td>\n",
              "      <td>0</td>\n",
              "      <td>0</td>\n",
              "      <td>0</td>\n",
              "      <td>0</td>\n",
              "    </tr>\n",
              "  </tbody>\n",
              "</table>\n",
              "</div>"
            ],
            "text/plain": [
              "       Actual  Predict_Prob  Predicted  0.0  0.1  ...  0.5  0.6  0.7  0.8  0.9\n",
              "44481       0      0.136347          0    1    1  ...    0    0    0    0    0\n",
              "25167       0      0.487267          0    1    1  ...    0    0    0    0    0\n",
              "40209       0      0.099378          0    1    0  ...    0    0    0    0    0\n",
              "30954       0      0.083180          0    1    0  ...    0    0    0    0    0\n",
              "26429       0      0.008048          0    1    0  ...    0    0    0    0    0\n",
              "9926        0      0.075558          0    1    0  ...    0    0    0    0    0\n",
              "5350        0      0.021337          0    1    0  ...    0    0    0    0    0\n",
              "27903       0      0.140808          0    1    1  ...    0    0    0    0    0\n",
              "19437       0      0.017542          0    1    0  ...    0    0    0    0    0\n",
              "21459       0      0.376723          0    1    1  ...    0    0    0    0    0\n",
              "\n",
              "[10 rows x 13 columns]"
            ]
          },
          "metadata": {
            "tags": []
          },
          "execution_count": 154
        }
      ]
    },
    {
      "cell_type": "code",
      "metadata": {
        "colab": {
          "base_uri": "https://localhost:8080/"
        },
        "id": "tQJ2XMgvWSF5",
        "outputId": "0d377d7c-ace1-478c-8787-a470bd08b523"
      },
      "source": [
        "# Now let's calculate accuracy sensitivity and specificity for various probability cutoffs.\n",
        "cutoff_df = pd.DataFrame( columns = ['cutoff','accuracy','sensitivity','specificity'])\n",
        "from sklearn.metrics import confusion_matrix\n",
        "\n",
        "# TP = confusion[1,1] # true positive \n",
        "# TN = confusion[0,0] # true negatives\n",
        "# FP = confusion[0,1] # false positives\n",
        "# FN = confusion[1,0] # false negatives\n",
        "\n",
        "num = [0.0,0.1,0.2,0.3,0.4,0.5,0.6,0.7,0.8,0.9]\n",
        "for i in num:\n",
        "    cm1 = metrics.confusion_matrix(prediction_comparision.Actual, prediction_comparision[i] )\n",
        "    total1=sum(sum(cm1))\n",
        "    accuracy = (cm1[0,0]+cm1[1,1])/total1\n",
        "    \n",
        "    speci = cm1[0,0]/(cm1[0,0]+cm1[0,1])\n",
        "    sensi = cm1[1,1]/(cm1[1,0]+cm1[1,1])\n",
        "    cutoff_df.loc[i] =[ i ,accuracy,sensi,speci]\n",
        "print(cutoff_df)"
      ],
      "execution_count": 156,
      "outputs": [
        {
          "output_type": "stream",
          "text": [
            "     cutoff  accuracy  sensitivity  specificity\n",
            "0.0     0.0  0.116978     1.000000     0.000000\n",
            "0.1     0.1  0.752204     0.840086     0.740562\n",
            "0.2     0.2  0.864853     0.588061     0.901521\n",
            "0.3     0.3  0.886024     0.410589     0.949007\n",
            "0.4     0.4  0.888963     0.284441     0.969046\n",
            "0.5     0.5  0.890416     0.207185     0.980927\n",
            "0.6     0.6  0.889563     0.151270     0.987368\n",
            "0.7     0.7  0.887920     0.104268     0.991734\n",
            "0.8     0.8  0.886245     0.068341     0.994597\n",
            "0.9     0.9  0.884570     0.035386     0.997066\n"
          ],
          "name": "stdout"
        }
      ]
    },
    {
      "cell_type": "code",
      "metadata": {
        "colab": {
          "base_uri": "https://localhost:8080/",
          "height": 279
        },
        "id": "35b-BxwfWg_k",
        "outputId": "cf56c75a-6be4-4af1-bf93-cd560ef33c41"
      },
      "source": [
        "# Let's plot accuracy sensitivity and specificity for various probabilities.\n",
        "cutoff_df.plot.line(x='cutoff', y=['accuracy','sensitivity','specificity'])\n",
        "plt.show()"
      ],
      "execution_count": 157,
      "outputs": [
        {
          "output_type": "display_data",
          "data": {
            "image/png": "[encoded data removed]",
            "text/plain": [
              "<Figure size 432x288 with 1 Axes>"
            ]
          },
          "metadata": {
            "tags": [],
            "needs_background": "light"
          }
        }
      ]
    },
    {
      "cell_type": "code",
      "metadata": {
        "colab": {
          "base_uri": "https://localhost:8080/",
          "height": 359
        },
        "id": "gIN0ywpoXAGp",
        "outputId": "fead1433-07e4-4543-a8d3-cca17d565256"
      },
      "source": [
        "#### From the curve above, 0.3 is the optimum point to take it as a cutoff probability.\n",
        "\n",
        "prediction_comparision['final_Predicted'] = prediction_comparision.Predict_Prob.map( lambda x: 1 if x > 0.12 else 0)\n",
        "\n",
        "prediction_comparision.head(10)"
      ],
      "execution_count": 170,
      "outputs": [
        {
          "output_type": "execute_result",
          "data": {
            "text/html": [
              "<div>\n",
              "<style scoped>\n",
              "    .dataframe tbody tr th:only-of-type {\n",
              "        vertical-align: middle;\n",
              "    }\n",
              "\n",
              "    .dataframe tbody tr th {\n",
              "        vertical-align: top;\n",
              "    }\n",
              "\n",
              "    .dataframe thead th {\n",
              "        text-align: right;\n",
              "    }\n",
              "</style>\n",
              "<table border=\"1\" class=\"dataframe\">\n",
              "  <thead>\n",
              "    <tr style=\"text-align: right;\">\n",
              "      <th></th>\n",
              "      <th>Actual</th>\n",
              "      <th>Predict_Prob</th>\n",
              "      <th>Predicted</th>\n",
              "      <th>0.0</th>\n",
              "      <th>0.1</th>\n",
              "      <th>0.2</th>\n",
              "      <th>0.3</th>\n",
              "      <th>0.4</th>\n",
              "      <th>0.5</th>\n",
              "      <th>0.6</th>\n",
              "      <th>0.7</th>\n",
              "      <th>0.8</th>\n",
              "      <th>0.9</th>\n",
              "      <th>final_Predicted</th>\n",
              "    </tr>\n",
              "  </thead>\n",
              "  <tbody>\n",
              "    <tr>\n",
              "      <th>44481</th>\n",
              "      <td>0</td>\n",
              "      <td>0.136347</td>\n",
              "      <td>0</td>\n",
              "      <td>1</td>\n",
              "      <td>1</td>\n",
              "      <td>0</td>\n",
              "      <td>0</td>\n",
              "      <td>0</td>\n",
              "      <td>0</td>\n",
              "      <td>0</td>\n",
              "      <td>0</td>\n",
              "      <td>0</td>\n",
              "      <td>0</td>\n",
              "      <td>1</td>\n",
              "    </tr>\n",
              "    <tr>\n",
              "      <th>25167</th>\n",
              "      <td>0</td>\n",
              "      <td>0.487267</td>\n",
              "      <td>0</td>\n",
              "      <td>1</td>\n",
              "      <td>1</td>\n",
              "      <td>1</td>\n",
              "      <td>1</td>\n",
              "      <td>1</td>\n",
              "      <td>0</td>\n",
              "      <td>0</td>\n",
              "      <td>0</td>\n",
              "      <td>0</td>\n",
              "      <td>0</td>\n",
              "      <td>1</td>\n",
              "    </tr>\n",
              "    <tr>\n",
              "      <th>40209</th>\n",
              "      <td>0</td>\n",
              "      <td>0.099378</td>\n",
              "      <td>0</td>\n",
              "      <td>1</td>\n",
              "      <td>0</td>\n",
              "      <td>0</td>\n",
              "      <td>0</td>\n",
              "      <td>0</td>\n",
              "      <td>0</td>\n",
              "      <td>0</td>\n",
              "      <td>0</td>\n",
              "      <td>0</td>\n",
              "      <td>0</td>\n",
              "      <td>0</td>\n",
              "    </tr>\n",
              "    <tr>\n",
              "      <th>30954</th>\n",
              "      <td>0</td>\n",
              "      <td>0.083180</td>\n",
              "      <td>0</td>\n",
              "      <td>1</td>\n",
              "      <td>0</td>\n",
              "      <td>0</td>\n",
              "      <td>0</td>\n",
              "      <td>0</td>\n",
              "      <td>0</td>\n",
              "      <td>0</td>\n",
              "      <td>0</td>\n",
              "      <td>0</td>\n",
              "      <td>0</td>\n",
              "      <td>0</td>\n",
              "    </tr>\n",
              "    <tr>\n",
              "      <th>26429</th>\n",
              "      <td>0</td>\n",
              "      <td>0.008048</td>\n",
              "      <td>0</td>\n",
              "      <td>1</td>\n",
              "      <td>0</td>\n",
              "      <td>0</td>\n",
              "      <td>0</td>\n",
              "      <td>0</td>\n",
              "      <td>0</td>\n",
              "      <td>0</td>\n",
              "      <td>0</td>\n",
              "      <td>0</td>\n",
              "      <td>0</td>\n",
              "      <td>0</td>\n",
              "    </tr>\n",
              "    <tr>\n",
              "      <th>9926</th>\n",
              "      <td>0</td>\n",
              "      <td>0.075558</td>\n",
              "      <td>0</td>\n",
              "      <td>1</td>\n",
              "      <td>0</td>\n",
              "      <td>0</td>\n",
              "      <td>0</td>\n",
              "      <td>0</td>\n",
              "      <td>0</td>\n",
              "      <td>0</td>\n",
              "      <td>0</td>\n",
              "      <td>0</td>\n",
              "      <td>0</td>\n",
              "      <td>0</td>\n",
              "    </tr>\n",
              "    <tr>\n",
              "      <th>5350</th>\n",
              "      <td>0</td>\n",
              "      <td>0.021337</td>\n",
              "      <td>0</td>\n",
              "      <td>1</td>\n",
              "      <td>0</td>\n",
              "      <td>0</td>\n",
              "      <td>0</td>\n",
              "      <td>0</td>\n",
              "      <td>0</td>\n",
              "      <td>0</td>\n",
              "      <td>0</td>\n",
              "      <td>0</td>\n",
              "      <td>0</td>\n",
              "      <td>0</td>\n",
              "    </tr>\n",
              "    <tr>\n",
              "      <th>27903</th>\n",
              "      <td>0</td>\n",
              "      <td>0.140808</td>\n",
              "      <td>0</td>\n",
              "      <td>1</td>\n",
              "      <td>1</td>\n",
              "      <td>0</td>\n",
              "      <td>0</td>\n",
              "      <td>0</td>\n",
              "      <td>0</td>\n",
              "      <td>0</td>\n",
              "      <td>0</td>\n",
              "      <td>0</td>\n",
              "      <td>0</td>\n",
              "      <td>1</td>\n",
              "    </tr>\n",
              "    <tr>\n",
              "      <th>19437</th>\n",
              "      <td>0</td>\n",
              "      <td>0.017542</td>\n",
              "      <td>0</td>\n",
              "      <td>1</td>\n",
              "      <td>0</td>\n",
              "      <td>0</td>\n",
              "      <td>0</td>\n",
              "      <td>0</td>\n",
              "      <td>0</td>\n",
              "      <td>0</td>\n",
              "      <td>0</td>\n",
              "      <td>0</td>\n",
              "      <td>0</td>\n",
              "      <td>0</td>\n",
              "    </tr>\n",
              "    <tr>\n",
              "      <th>21459</th>\n",
              "      <td>0</td>\n",
              "      <td>0.376723</td>\n",
              "      <td>0</td>\n",
              "      <td>1</td>\n",
              "      <td>1</td>\n",
              "      <td>1</td>\n",
              "      <td>1</td>\n",
              "      <td>0</td>\n",
              "      <td>0</td>\n",
              "      <td>0</td>\n",
              "      <td>0</td>\n",
              "      <td>0</td>\n",
              "      <td>0</td>\n",
              "      <td>1</td>\n",
              "    </tr>\n",
              "  </tbody>\n",
              "</table>\n",
              "</div>"
            ],
            "text/plain": [
              "       Actual  Predict_Prob  Predicted  0.0  ...  0.7  0.8  0.9  final_Predicted\n",
              "44481       0      0.136347          0    1  ...    0    0    0                1\n",
              "25167       0      0.487267          0    1  ...    0    0    0                1\n",
              "40209       0      0.099378          0    1  ...    0    0    0                0\n",
              "30954       0      0.083180          0    1  ...    0    0    0                0\n",
              "26429       0      0.008048          0    1  ...    0    0    0                0\n",
              "9926        0      0.075558          0    1  ...    0    0    0                0\n",
              "5350        0      0.021337          0    1  ...    0    0    0                0\n",
              "27903       0      0.140808          0    1  ...    0    0    0                1\n",
              "19437       0      0.017542          0    1  ...    0    0    0                0\n",
              "21459       0      0.376723          0    1  ...    0    0    0                1\n",
              "\n",
              "[10 rows x 14 columns]"
            ]
          },
          "metadata": {
            "tags": []
          },
          "execution_count": 170
        }
      ]
    },
    {
      "cell_type": "code",
      "metadata": {
        "colab": {
          "base_uri": "https://localhost:8080/"
        },
        "id": "4xkChfvOXSPK",
        "outputId": "b414507f-b7ed-4e96-8c94-9e3607dc5412"
      },
      "source": [
        "# Let's check the overall accuracy.\n",
        "metrics.accuracy_score(prediction_comparision.Actual, prediction_comparision.final_Predicted)"
      ],
      "execution_count": 171,
      "outputs": [
        {
          "output_type": "execute_result",
          "data": {
            "text/plain": [
              "0.7942301007994439"
            ]
          },
          "metadata": {
            "tags": []
          },
          "execution_count": 171
        }
      ]
    },
    {
      "cell_type": "code",
      "metadata": {
        "colab": {
          "base_uri": "https://localhost:8080/"
        },
        "id": "i3XmCI2nXcyr",
        "outputId": "111b7028-fbac-4fae-b405-86c3dd7a3e63"
      },
      "source": [
        "confusion2 = metrics.confusion_matrix(prediction_comparision.Actual, prediction_comparision.final_Predicted )\n",
        "confusion2"
      ],
      "execution_count": 172,
      "outputs": [
        {
          "output_type": "execute_result",
          "data": {
            "text/plain": [
              "array([[22208,  5737],\n",
              "       [  775,  2927]])"
            ]
          },
          "metadata": {
            "tags": []
          },
          "execution_count": 172
        }
      ]
    },
    {
      "cell_type": "code",
      "metadata": {
        "id": "gl65SBW6XfM5"
      },
      "source": [
        "TP = confusion2[1,1] # true positive \n",
        "TN = confusion2[0,0] # true negatives\n",
        "FP = confusion2[0,1] # false positives\n",
        "FN = confusion2[1,0] # false negatives\n",
        "\n"
      ],
      "execution_count": 173,
      "outputs": []
    },
    {
      "cell_type": "code",
      "metadata": {
        "colab": {
          "base_uri": "https://localhost:8080/"
        },
        "id": "o2RN3FzTXmOQ",
        "outputId": "cd819286-187e-4f45-cee8-1f7ca9764003"
      },
      "source": [
        "# Let's see the sensitivity of our logistic regression model\n",
        "TP / float(TP+FN)"
      ],
      "execution_count": 174,
      "outputs": [
        {
          "output_type": "execute_result",
          "data": {
            "text/plain": [
              "0.7906537007023231"
            ]
          },
          "metadata": {
            "tags": []
          },
          "execution_count": 174
        }
      ]
    },
    {
      "cell_type": "code",
      "metadata": {
        "colab": {
          "base_uri": "https://localhost:8080/"
        },
        "id": "ddPS7w1JXoUa",
        "outputId": "47431269-41fe-43f4-a0f0-2bb955af1175"
      },
      "source": [
        "# Let us calculate specificity\n",
        "TN / float(TN+FP)"
      ],
      "execution_count": 175,
      "outputs": [
        {
          "output_type": "execute_result",
          "data": {
            "text/plain": [
              "0.794703882626588"
            ]
          },
          "metadata": {
            "tags": []
          },
          "execution_count": 175
        }
      ]
    },
    {
      "cell_type": "code",
      "metadata": {
        "colab": {
          "base_uri": "https://localhost:8080/"
        },
        "id": "QfO7xemNXrd5",
        "outputId": "060a1bf2-30cb-4baf-c9e3-3146578fc11d"
      },
      "source": [
        "# Calculate False Postive Rate - predicting conversion when customer does not convert\n",
        "print(FP/ float(TN+FP))"
      ],
      "execution_count": 176,
      "outputs": [
        {
          "output_type": "stream",
          "text": [
            "0.20529611737341205\n"
          ],
          "name": "stdout"
        }
      ]
    },
    {
      "cell_type": "code",
      "metadata": {
        "colab": {
          "base_uri": "https://localhost:8080/"
        },
        "id": "wjaSrYiSYfkC",
        "outputId": "da54a252-e966-4df0-f42a-d209c3054624"
      },
      "source": [
        "# Positive predictive value \n",
        "print (TP / float(TP+FP))"
      ],
      "execution_count": 177,
      "outputs": [
        {
          "output_type": "stream",
          "text": [
            "0.3378347183748846\n"
          ],
          "name": "stdout"
        }
      ]
    },
    {
      "cell_type": "code",
      "metadata": {
        "colab": {
          "base_uri": "https://localhost:8080/"
        },
        "id": "p9I0vglNYiAx",
        "outputId": "26ac8599-e76b-4989-cdbf-5684a155c3fa"
      },
      "source": [
        "# Negative predictive value\n",
        "print (TN / float(TN+ FN))"
      ],
      "execution_count": 178,
      "outputs": [
        {
          "output_type": "stream",
          "text": [
            "0.9662794239220294\n"
          ],
          "name": "stdout"
        }
      ]
    }
  ]
}